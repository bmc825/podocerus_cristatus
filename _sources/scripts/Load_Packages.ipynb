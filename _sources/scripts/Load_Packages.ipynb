{
 "cells": [
  {
   "cell_type": "markdown",
   "metadata": {},
   "source": [
    "# Load Packages\n",
    "\n",
    "---\n",
    "\n",
    "We will first install and load the required packages in R."
   ]
  },
  {
   "cell_type": "code",
   "execution_count": null,
   "metadata": {
    "vscode": {
     "languageId": "r"
    }
   },
   "outputs": [],
   "source": [
    "# List of required packages\n",
    "packages_datacleaning <- c(\n",
    "  \"dplyr\", \"ggplot2\", \"ggpubr\", \"tidyr\", \"quarto\", \"rmarkdown\",\n",
    "  \"devtools\", \"readxl\", \"ssh\", \"knitr\", \"kableExtra\", \"httpgd\", \"FSA\", \"glue\"\n",
    ")\n",
    "\n",
    "packages_cluster <- c(\n",
    "  \"plotly\", \"factoextra\", \"ggcorrplot\", \"cluster\", \"openxlsx\", \"clValid\",\n",
    "  \"Kmedians\", \"NbClust\", \"ggpubr\", \"glmulti\", \"FactoMineR\", \"patternize\", \n",
    "  \"raster\", \"recolorize\", \"tools\", \"grid\", \"plotrix\", \"ggforce\", \"htmlwidgets\",\n",
    "  \"webshot2\"\n",
    ")\n",
    "\n",
    "packages_bayesian <- c(\n",
    "  \"bayesplot\", \"posterior\", \"gridExtra\", \"brms\", \"tibble\", \"kableExtra\",\n",
    "  \"scales\", \"tidyverse\", \"grid\", \"patchwork\", \"cowplot\", \"loo\", \"extraDistr\", \n",
    "  \"IRdisplay\", \"IRkernel\", \"leaflet\", \"DT\", \"rstan\", \"StanHeaders\"\n",
    ")\n",
    "\n",
    "packages_phylogenetic <- c(\n",
    "  \"ape\", \"BiocManager\", \"treeio\", \"TreeDist\", \"TreeTools\", \"ggtree\" \n",
    ")\n",
    "\n",
    "\n",
    "# Combine package lists\n",
    "packages <- c(packages_datacleaning, packages_cluster, packages_bayesian, packages_phylogenetic)\n",
    "\n",
    "\n",
    "# Install packages\n",
    "installed <- rownames(installed.packages())\n",
    "missing <- packages[!packages %in% installed]\n",
    "if (length(missing) > 0) {\n",
    "  install.packages(missing)\n",
    "}\n",
    "\n",
    "# Install these extra packages which are finicky\n",
    "if (!\"ggtree\" %in% installed) {\n",
    "  BiocManager::install(\"ggtree\")\n",
    "}\n",
    "\n",
    "#cmdstanr::install_cmdstan(cores = 28, version = \"2.32.1\")\n",
    "\n",
    "IRkernel::installspec(user = FALSE)\n",
    "\n",
    "# Load packages\n",
    "lapply(packages, library, character.only = TRUE)"
   ]
  }
 ],
 "metadata": {
  "kernelspec": {
   "display_name": "R",
   "language": "R",
   "name": "ir"
  },
  "language_info": {
   "name": "R"
  }
 },
 "nbformat": 4,
 "nbformat_minor": 2
}
