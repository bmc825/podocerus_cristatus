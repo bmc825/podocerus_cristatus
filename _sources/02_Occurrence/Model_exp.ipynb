{
  "cells": [
    {
      "cell_type": "code",
      "execution_count": null,
      "metadata": {
        "tags": [
          "hide-cell",
          "hide-output"
        ],
        "vscode": {
          "languageId": "r"
        }
      },
      "outputs": [],
      "source": [
        "# Source the package setup script\n",
        "source(\"C:/Users/bmc82/Documents/UF/PhD_Projects/DISSERTATION_MANUSCRIPT/Chapter_3/chapter3_data_analysis/scripts/00_setup_packages.R\")\n",
        "\n",
        "# Source the custom graphing functions\n",
        "source(\"C:/Users/bmc82/Documents/UF/PhD_Projects/DISSERTATION_MANUSCRIPT/Chapter_3/chapter3_data_analysis/scripts/01_graphing_functions.R\")"
      ]
    },
    {
      "cell_type": "markdown",
      "metadata": {},
      "source": [
        "# Substrate Experiment Model\n",
        "\n",
        "## Question\n",
        "\n",
        "How do environmental factors (**microhabitat**, **nudibranch presence**) affect P. cristatus occurrence across individuals, sexes, and morphs?\n",
        "\n",
        "## Objective\n",
        "\n",
        "Test for the effect of **microhabitat** on the occurrence of **pods** *ex situ*. \n",
        "\n",
        "## Method\n",
        "\n",
        "### 1. Load cleaned data.\n",
        "\n",
        "Load data that was cleaned and transformed in \"02_data_cleaning.qmd\".\n"
      ]
    },
    {
      "cell_type": "code",
      "execution_count": null,
      "metadata": {
        "vscode": {
          "languageId": "r"
        }
      },
      "outputs": [],
      "source": [
        "data_exp_clean <- read.csv(\"C:/Users/bmc82/Documents/UF/PhD_Projects/DISSERTATION_MANUSCRIPT/Chapter_3/chapter3_data_analysis/data/cleaned/data_exp_clean.csv\")"
      ]
    },
    {
      "cell_type": "markdown",
      "metadata": {},
      "source": [
        "---\n",
        "\n",
        "### 2. Prepare data for modeling.\n",
        "\n",
        "#### **Categorical posteriors**\n",
        "\n",
        "For categorical and binary predictors, R automatically dummy-codes the variables. For binary variables, such as Sex (0 = Female, 1 = Male), R sets the baseline to 0 unless specified otherwise. This ensures comparisons are made relative to the baseline group.\n",
        "\n",
        "#### **Continuous predictors**\n",
        "\n",
        "We standardize continuous predictors, such as Fecundity, by centering and scaling them (dividing by two standard deviations). This improves interpretability, aligning their coefficients with those of binary posteriors, as suggested by Gelman (2008)."
      ]
    },
    {
      "cell_type": "code",
      "execution_count": null,
      "metadata": {
        "vscode": {
          "languageId": "r"
        }
      },
      "outputs": [],
      "source": [
        "# Convert categorical variables to factors\n",
        "# Define the columns to convert to factor\n",
        "columns_to_convert_exp <- c(\"Chamber\", \"TOD\", \"Microhabitat\", \"Sex\")\n",
        "\n",
        "data_exp_clean <- data_exp_clean %>%\n",
        "    mutate(across(all_of(columns_to_convert_exp), as.factor))\n",
        "\n",
        "# Set reference category for categorical posteriors\n",
        "data_exp_clean$Microhabitat <- relevel(data_exp_clean$Microhabitat, ref = \"Red_Algae\")\n",
        "\n",
        "\n",
        "\n",
        "# Convert continuous variables to numeric\n",
        "columns_to_convert_exp <- c(\"Count\")\n",
        "columns_to_convert_exp <- c(\"Time\")\n",
        "\n",
        "data_exp_clean <- data_exp_clean %>%\n",
        "    mutate(across(all_of(columns_to_convert_exp), as.numeric))\n",
        "\n"
      ]
    },
    {
      "cell_type": "markdown",
      "metadata": {},
      "source": [
        "---\n",
        "\n",
        "### 3. Visualize response variable distributions\n",
        "\n",
        "To understand the distributions of our response variables, we plot density curves. This helps confirm whether a Poisson distribution is appropriate for modeling.\n"
      ]
    },
    {
      "cell_type": "code",
      "execution_count": null,
      "metadata": {
        "tags": [
          "hide-input"
        ],
        "vscode": {
          "languageId": "r"
        }
      },
      "outputs": [],
      "source": [
        "# Function to generate density plots by Microhabitat\n",
        "generate_pod_count_plot <- function(data, \n",
        "                                    axis_title_x = TRUE, \n",
        "                                    axis_text_x = TRUE,\n",
        "                                    axis_title_y = TRUE, \n",
        "                                    axis_text_y = TRUE,\n",
        "                                    axis_title_size = 10, \n",
        "                                    axis_text_size = 8,\n",
        "                                    plot_title = NULL) {\n",
        "  data %>% \n",
        "    ggplot(aes(x = Microhabitat, y = Count, fill = Microhabitat)) +\n",
        "    geom_boxplot(alpha = 0.7, outlier.shape = NA) +\n",
        "    theme_bw(base_size = 8) +\n",
        "    labs(\n",
        "      title = plot_title,\n",
        "      x = if (axis_title_x) \"Microhabitat\" else NULL,\n",
        "      y = if (axis_title_y) \"Pod Count\" else NULL,\n",
        "      fill = NULL\n",
        "    ) +\n",
        "    theme(\n",
        "      axis.title.x = if (axis_title_x) element_text(size = axis_title_size) else element_blank(),\n",
        "      axis.text.x  = if (axis_text_x) element_text(size = axis_text_size, angle = 45, hjust = 1) else element_blank(),\n",
        "      axis.title.y = if (axis_title_y) element_text(size = axis_title_size) else element_blank(),\n",
        "      axis.text.y  = if (axis_text_y) element_text(size = axis_text_size) else element_blank(),\n",
        "      legend.position = \"none\",\n",
        "      panel.grid.major = element_blank(),\n",
        "      panel.grid.minor = element_blank()\n",
        "    )\n",
        "}\n",
        "\n",
        "\n",
        "\n",
        "# Generate the density plot directly for the variable \"Count\"\n",
        "plot_exp_count <- generate_pod_count_plot(\n",
        "  data = data_exp_clean,\n",
        "  axis_title_y = TRUE,\n",
        "  axis_text_y = TRUE,\n",
        "  axis_title_x = TRUE,\n",
        "  axis_text_x = TRUE,\n",
        "  axis_title_size = 10, \n",
        "  axis_text_size = 8\n",
        ")\n",
        "\n",
        "\n",
        "ggsave(\"C:/Users/bmc82/Documents/UF/PhD_Projects/DISSERTATION_MANUSCRIPT/Chapter_3/chapter3_data_analysis/images/plot_exp_count.png\", plot = plot_exp_count, width = 3, height = 3, units = \"in\", dpi = 300)\n"
      ]
    },
    {
      "cell_type": "code",
      "execution_count": null,
      "metadata": {
        "tags": [
          "hide-input"
        ],
        "vscode": {
          "languageId": "r"
        }
      },
      "outputs": [],
      "source": [
        "# Convert images to base64\n",
        "plot_exp_count <- knitr::image_uri(\"C:/Users/bmc82/Documents/UF/PhD_Projects/DISSERTATION_MANUSCRIPT/Chapter_3/chapter3_data_analysis/images/plot_exp_count.png\")\n",
        "\n",
        "# Create the HTML \n",
        "html_count <- paste0(\"\n",
        "  <style>\n",
        "    .image-container {\n",
        "      display: flex;\n",
        "      justify-content: space-between;\n",
        "      align-items: flex-start;\n",
        "      flex-wrap: wrap;\n",
        "      gap: 20px;\n",
        "      max-width: 100%;\n",
        "    }\n",
        "\n",
        "    .image-container img {\n",
        "      flex: 1 1 48%;\n",
        "      max-width: 48%;\n",
        "      height: auto;\n",
        "      border: 1px solid #ccc;\n",
        "    }\n",
        "\n",
        "    @media screen and (max-width: 800px) {\n",
        "      .image-container img {\n",
        "        max-width: 100%;\n",
        "        flex: 1 1 100%;\n",
        "      }\n",
        "    }\n",
        "  </style>\n",
        "\n",
        "  <div class='image-container'>\n",
        "    <img src='\", plot_exp_count, \"' alt='Pod Count by Microhabitat'>\n",
        "  </div>\n",
        "\")\n",
        "\n",
        "# Display the HTML\n",
        "IRdisplay::display_html(html_count)"
      ]
    },
    {
      "cell_type": "markdown",
      "metadata": {},
      "source": [
        "\n",
        "---\n",
        "\n",
        "### 4. Justification for GLMs and Bayesian methods\n",
        "\n",
        "#### **Why GLMs?**\n",
        "\n",
        "Generalized Linear Models (GLMs) are used because our response variables are continuous, non-negative, and right-skewed, which violates the assumptions of linear regression. The Poisson distribution with a log link function allows us to model these variables appropriately.\n",
        "\n",
        "---\n",
        "\n",
        "#### **Why Bayesian methods?**\n",
        "\n",
        "Bayesian GLMs were chosen over frequentist approaches because:\n",
        "\n",
        "-   **Sparse data**: Bayesian methods handle sparse datasets more robustly.\n",
        "\n",
        "-   **Priors**: They allow us to incorporate prior knowledge, improving model performance.\n",
        "\n",
        "-   **Posterior distributions**: Bayesian models provide posterior distributions, offering a full view of parameter uncertainty.\n",
        "\n",
        "---\n",
        "\n",
        "### 5. Define priors\n",
        "\n",
        "#### **What are priors?**\n",
        "\n",
        "In Bayesian statistics, priors represent our beliefs about parameter values before analyzing the data. These beliefs are mathematically expressed as probability distributions. Priors guide the model, especially when data are sparse or when the signal-to-noise ratio is low.\n",
        "\n",
        "---\n",
        "\n",
        "#### **Why priors matter:**\n",
        "\n",
        "-   **Prevent overfitting**: Priors discourage extreme parameter estimates unless strongly supported by the data.\n",
        "\n",
        "-   **Balance restrictiveness and flexibility**: Weakly informative priors let the data dominate while providing reasonable bounds.\n",
        "\n",
        "-   **Leverage existing knowledge**: Informative priors incorporate previous research or domain expertise, improving accuracy in well-studied systems.\n",
        "\n",
        "---\n",
        "\n",
        "#### **How priors work in this analysis:**\n",
        "We combine the priors (representing initial beliefs) with the likelihood of the observed data to compute posterior distributions, which reflect updated beliefs after observing the data.\n",
        "\n",
        "The general formula is:\n",
        "\n",
        "$$\n",
        "\\begin{aligned}\n",
        "\\text{Posterior } \\alpha \\text{ Likelihood} * \\text{Prior}\n",
        "\\end{aligned}\n",
        "$$\n",
        "\n",
        "---\n",
        "\n",
        "#### **Model family and formula**\n",
        "\n",
        "Our response variable (i.e., Pod count) is discrete. We model these variables using a Poisson distribution, which is suitable for count data, assuming the mean equals the variance (we will test for this after we build the model). The Poisson distribution can operate on a log scale to force the result to be positive:\n",
        "\n",
        "$$\n",
        "\\begin{aligned}\n",
        "& y_{i} \\sim \\text{Poisson}(\\mu_{i}) \\\\\n",
        "\\end{aligned}\n",
        "$$\n",
        "\n",
        "The mean pod count $\\mu_i$ is modeled as:\n",
        "\n",
        "$$\n",
        "\\text{log}(\\mu_{i}) = \\alpha + \\beta x_{i} \\\\\n",
        "$$\n",
        "\n",
        "Where:\n",
        "\n",
        "-   **$y_{i}$**: Response variable for observation $i$\n",
        "\n",
        "-   **$\\mu_{i}$**: Mean of *P. cristatus* count for $i$ (on the log scale)\n",
        "\n",
        "-   **$\\alpha$**: Intercept, mean value of $\\text{log}(\\mu)$ when predictors are at baseline\n",
        "\n",
        "-   **$beta$**: Coefficient/slope for predictor $x_{i}$, representing the effect of $x_{i}$ on $\\text{log}(\\mu_i)$\n",
        "\n",
        "---\n",
        "\n",
        "#### Chosen priors and rationale\n",
        "\n",
        "**Intercept (\\alpha)**: The intercept (\\alpha) reflects the baseline log-count of *P. cristatus* in the reference conditions (Red Algae). Based on our experimental setup, we know the maximum count on a microhabitat should never go above 3 because there are no more than 3 pods per chamber, translating to:\n",
        "\n",
        "$$\n",
        "\\begin{aligned}\n",
        "\\text{log}(3) = 1.10\n",
        "\\end{aligned}\n",
        "$$\n",
        "\n",
        "We set a weakly informative prior:\n",
        "$$\n",
        "\\begin{aligned}\n",
        "\\alpha \\approx N(0,0.5)\n",
        "\\end{aligned}\n",
        "$$\n",
        "\n",
        "This prior allows for moderate variability in log-count (95% of values between -1 and 1), corresponding to probabilities ranging from 12% to 88% on the original scale:\n",
        "\n",
        "$N(0, 0.5)$ is a normal distribution with a mean of 0 and a standard deviation of $\\sqrt(0.5) = 0.702$. On the original scale, this translates to a mean of $e^{0}=1$, and a standard deviation of $e^{0.702}=2.02$. In a normal distribution, 95% of values fall within 2 standard deviations of the mean. Thus, most values will lie roughly between -1.404 and 1.404, on the log scale. On the original scale, the values lie roughly between $e^{-1.404} \\approx 0.246$ to $e^{1.404} \\approx 4.07$. This says that the number of pods can range from close to 0 all the way up to 3 (and a little beyond).\n",
        "\n",
        "---\n",
        "\n",
        "**Slope ($\\beta$)**: The slope reflects the rate of change in $\\log(\\mu)$ for a one-unit change in the predictor. On the original scale, this translates to:\n",
        "\n",
        "$$\n",
        "\\begin{aligned}\n",
        "\\frac{y_{x+1}}{y_x} &= \\frac{e^{(\\alpha + \\beta(x+1))}}{e^{(\\alpha + \\beta x)}} \\\\\n",
        "&= \\frac{e^{(\\alpha + \\beta x + \\beta)}}{e^{(\\alpha + \\beta x)}} \\\\\n",
        "&= e^{(\\alpha + \\beta x)} \\times \\frac{e^{\\beta}}{e^{(\\alpha + \\beta x)}} \\\\\n",
        "&= e^{\\beta} \\\\\n",
        "& \\quad \\quad \\quad \\text{OR} \\\\\n",
        "& \\text{Scaling factor} = e^{\\beta}\n",
        "\\end{aligned}\n",
        "$$\n",
        "\n",
        "\n",
        "For example:\n",
        "\n",
        "-   If $\\beta = 0.1$, a one-unit increase in the predictor scales $\\mu$ by $e^{0.1} \\approx 1.10$ (a 10% increase).\n",
        "\n",
        "-   If $\\beta = -0.1$, a one-unit increase scales $\\mu$ by $e^{-0.1} \\approx 0.91$ (a 9% decrease).\n",
        "\n",
        "We don't know how our predictors will affect the response, so we use a weakly informative prior:\n",
        "\n",
        "$$\n",
        "\\begin{aligned}\n",
        "\\beta \\approx N(0,0.5)\n",
        "\\end{aligned}\n",
        "$$\n",
        "\n",
        "This prior assumes no effect of the predictor on average ($e^{0} = 1$, and allows moderate positive or negative effects, spanning approximately $[-1, 1]$ on the log scale ($e^{-1} \\approx 0.37$ to $e^{1} \\approx 2.72$ on the original scale). So $\\mu$ of each response variable will not exceed a minimum of $\\mu * 0.37$ and maximum of $\\mu * 2.72$.\n",
        "\n",
        "---\n",
        "\n",
        "**Random effects ($\\sigma$)**: Random effects account for variability between groups that we are not explicitly testing. In this model, Chamber will be the random effect. This is because we have repeated measures within the same Chambers. Measurements within the same Chamber are likely to be correlated due to shared environmental factors, spatial proximity, or other unobserved factors specific to the Chamber. Including random effects in our model accounts for this. To capture moderate variability, we assign:\n",
        "\n",
        "$$\n",
        "\\begin{aligned}\n",
        "\\approx N(0,0.5)\n",
        "\\end{aligned}\n",
        "$$\n",
        "\n",
        "This ensures flexibility without overfitting.\n",
        "\n",
        "---\n",
        "\n",
        "#### **Visualizing priors**\n",
        "\n",
        "To validate these priors, we run models sampling only from the priors (sample_prior = \"only\") and inspect their outputs to ensure they align with our expectations.\n"
      ]
    },
    {
      "cell_type": "markdown",
      "metadata": {},
      "source": [
        ">**Note:** We will run these models in RStudio to be consistent because the rstan package sometimes does not like Jupyter. The models were saved in RStudio and loaded below. We left the code chunks as comments for reference."
      ]
    },
    {
      "cell_type": "code",
      "execution_count": null,
      "metadata": {
        "tags": [
          "hide-cell"
        ],
        "vscode": {
          "languageId": "r"
        }
      },
      "outputs": [],
      "source": [
        "# # Set seed for reproducibility\n",
        "# set.seed(5678)\n",
        "# exp_priors <- brm(\n",
        "#     family = poisson(link = \"log\"),\n",
        "#     formula = Count ~ 1 + Microhabitat * Time + (1 | Chamber),\n",
        "#     data = data_exp_clean,\n",
        "#     prior = c(\n",
        "#         prior(normal(0, 0.5), class = \"Intercept\"),\n",
        "#         prior(normal(0, 0.5), class = \"b\"),\n",
        "#         prior(normal(0, 0.5), class = \"sd\")\n",
        "#     ),\n",
        "#     sample_prior = \"only\",\n",
        "#     save_pars = save_pars(all = TRUE),\n",
        "#     control = list(adapt_delta = 0.99, max_treedepth = 12),\n",
        "#     iter = 15000,\n",
        "#     warmup = 5000,\n",
        "#     chains = 2,\n",
        "#     cores = parallel::detectCores(logical=FALSE),\n",
        "#     backend = \"rstan\"\n",
        "# )\n",
        "# saveRDS(exp_priors, file = \"C:/Users/bmc82/Documents/UF/PhD_Projects/DISSERTATION_MANUSCRIPT/Chapter_3/chapter3_data_analysis/data/models/exp_priors.rds\")"
      ]
    },
    {
      "cell_type": "code",
      "execution_count": null,
      "metadata": {
        "tags": [
          "hide-cell"
        ],
        "vscode": {
          "languageId": "r"
        }
      },
      "outputs": [],
      "source": [
        "# Load models\n",
        "exp_priors <- readRDS(\"C:/Users/bmc82/Documents/UF/PhD_Projects/DISSERTATION_MANUSCRIPT/Chapter_3/chapter3_data_analysis/data/models/exp_priors.rds\")\n",
        "\n",
        "# Extract results.\n",
        "prior_samples_exp <- as_draws_df(exp_priors)"
      ]
    },
    {
      "cell_type": "code",
      "execution_count": null,
      "metadata": {
        "tags": [
          "hide-cell"
        ],
        "vscode": {
          "languageId": "r"
        }
      },
      "outputs": [],
      "source": [
        "# List of datasets and labels\n",
        "prior_samples <- list(\n",
        "    Count = prior_samples_exp\n",
        ")\n",
        "\n",
        "# Custom labels\n",
        "custom_labels_priors <- c(\n",
        "  \"b_MicrohabitatSand\" = \"Sand\",\n",
        "  \"b_MicrohabitatSertulariidae\" = \"Sertulariidae\",\n",
        "  \"b_MicrohabitatHydrallmania\" = \"Hydrallmania\",\n",
        "  \"b_Time\" = \"Time\"\n",
        ")\n",
        "\n",
        "custom_labels_priors_intercept <- c(\n",
        "  \"b_Intercept\" = \"Intercept\"\n",
        ")\n",
        "\n",
        "# Generate plots for predictors\n",
        "prior_plots <- lapply(\n",
        "    names(prior_samples),\n",
        "    function(label) {\n",
        "        generate_posterior_plot(\n",
        "            prior_samples[[label]],\n",
        "            regex_pars = c(\n",
        "                \"b_MicrohabitatSand\",\n",
        "                \"b_MicrohabitatSertulariidae\",\n",
        "                \"b_MicrohabitatHydrallmania\",\n",
        "                \"b_Time\"\n",
        "            ),\n",
        "            x_range = c(-5, 5),\n",
        "            custom_labels = custom_labels_priors,\n",
        "            axis_title_y = label %in% c(\"Count\")\n",
        "        )\n",
        "    }\n",
        ")\n",
        "names(prior_plots) <- names(prior_samples)\n",
        "\n",
        "# Generate plot for intercept\n",
        "prior_plots_intercept <- lapply(\n",
        "    names(prior_samples),\n",
        "    function(label) {\n",
        "        generate_posterior_plot(\n",
        "            prior_samples[[label]],\n",
        "            regex_pars = c(\"b_Intercept\"),\n",
        "            x_range = c(-10, 10),\n",
        "            custom_labels = custom_labels_priors_intercept,\n",
        "            axis_title_y = label %in% c(\"Count\")\n",
        "        )\n",
        "    }\n",
        ")\n",
        "names(prior_plots_intercept) <- names(prior_samples)\n",
        "\n",
        "# Add grey bars with labels for each plot using the top bar function\n",
        "prior_plots_with_bars <- mapply(\n",
        "    function(plot, label) {\n",
        "        patchwork::wrap_elements(create_top_bar(label)) / plot +\n",
        "            patchwork::plot_layout(heights = c(0.2, 1)) # Adjust heights to reduce spacing\n",
        "    },\n",
        "    prior_plots,\n",
        "    names(prior_plots),\n",
        "    SIMPLIFY = FALSE\n",
        ")\n",
        "\n",
        "prior_plots_intercept_with_bars <- mapply(\n",
        "    function(plot, label) {\n",
        "        patchwork::wrap_elements(create_top_bar(label)) / plot +\n",
        "            patchwork::plot_layout(heights = c(0.2, 1)) # Adjust heights to reduce spacing\n",
        "    },\n",
        "    prior_plots_intercept,\n",
        "    names(prior_plots_intercept),\n",
        "    SIMPLIFY = FALSE\n",
        ")\n",
        "\n",
        "# Combine plots into a grid using the correct name (\"Count\") instead of \"Pod Count\"\n",
        "plot_priors_exp <- patchwork::wrap_plots(\n",
        "    prior_plots_with_bars[c(\"Count\")],\n",
        "    ncol = 1\n",
        ") +\n",
        "    patchwork::plot_layout(guides = \"collect\")\n",
        "\n",
        "plot_priors_intercept_exp <- patchwork::wrap_plots(\n",
        "    prior_plots_intercept_with_bars[c(\"Count\")],\n",
        "    ncol = 1\n",
        ") +\n",
        "    patchwork::plot_layout(guides = \"collect\")\n",
        "\n",
        "# Add a unified x-axis label (if needed, otherwise remove this step)\n",
        "plot_priors_exp <- plot_priors_exp +\n",
        "    patchwork::plot_annotation(\n",
        "        caption = \"Expected value of the response (log scale)\",\n",
        "        theme = theme(plot.caption = element_text(hjust = 0.65, size = 10))\n",
        "    )\n",
        "\n",
        "plot_priors_intercept_exp <- plot_priors_intercept_exp +\n",
        "    patchwork::plot_annotation(\n",
        "        caption = \"Expected value of the response (log scale)\",\n",
        "        theme = theme(plot.caption = element_text(hjust = 0.65, size = 10))\n",
        "    )\n",
        "\n",
        "# Save the final plots\n",
        "ggsave(\"C:/Users/bmc82/Documents/UF/PhD_Projects/DISSERTATION_MANUSCRIPT/Chapter_3/chapter3_data_analysis/images/plot_priors_exp.png\", \n",
        "       plot = plot_priors_exp, width = 4.5, height = 6, units = \"in\", dpi = 300)\n",
        "\n",
        "ggsave(\"C:/Users/bmc82/Documents/UF/PhD_Projects/DISSERTATION_MANUSCRIPT/Chapter_3/chapter3_data_analysis/images/plot_priors_intercept_exp.png\", \n",
        "       plot = plot_priors_intercept_exp, width = 4.5, height = 4.5, units = \"in\", dpi = 300)\n",
        "\n",
        "\n"
      ]
    },
    {
      "cell_type": "code",
      "execution_count": null,
      "metadata": {
        "tags": [
          "hide-input"
        ],
        "vscode": {
          "languageId": "r"
        }
      },
      "outputs": [],
      "source": [
        "# Convert images to base64 (assuming these return base64 data URIs)\n",
        "plot_priors_exp <- knitr::image_uri(\"C:/Users/bmc82/Documents/UF/PhD_Projects/DISSERTATION_MANUSCRIPT/Chapter_3/chapter3_data_analysis/images/plot_priors_exp.png\")\n",
        "plot_priors_intercept_exp <- knitr::image_uri(\"C:/Users/bmc82/Documents/UF/PhD_Projects/DISSERTATION_MANUSCRIPT/Chapter_3/chapter3_data_analysis/images/plot_priors_intercept_exp.png\")\n",
        "\n",
        "# Create the HTML \n",
        "html_priors <- paste0(\"\n",
        "  <style>\n",
        "    .image-row {\n",
        "      display: flex;\n",
        "      gap: 20px;\n",
        "      justify-content: center;\n",
        "      align-items: flex-start;\n",
        "    }\n",
        "    .image-row img {\n",
        "      max-width: 48%;\n",
        "      height: auto;\n",
        "      border: 1px solid #ccc;\n",
        "    }\n",
        "  </style>\n",
        "<div class='image-row'>\n",
        "  <img src='\", plot_priors_exp, \"' alt='Prior Plot'>\n",
        "  <img src='\", plot_priors_intercept_exp, \"' alt='Intercept Prior Plot'>\n",
        "</div>\n",
        "\")\n",
        "\n",
        "# Display the HTML\n",
        "IRdisplay::display_html(html_priors)\n"
      ]
    },
    {
      "cell_type": "markdown",
      "metadata": {},
      "source": [
        "\n",
        "---\n",
        "\n",
        "### 6. Run final models\n",
        "\n",
        "Now that we have finalized the model parameters, we fit models using the actual data and compare them to null models to assess the significance of predictors.\n"
      ]
    },
    {
      "cell_type": "markdown",
      "metadata": {},
      "source": [
        ">**Note:** We will run these models in RStudio to be consistent because the rstan package sometimes does not like Jupyter. The models were saved in RStudio and loaded below. We left the code chunks as comments for reference."
      ]
    },
    {
      "cell_type": "code",
      "execution_count": null,
      "metadata": {
        "tags": [
          "hide-output"
        ],
        "vscode": {
          "languageId": "r"
        }
      },
      "outputs": [],
      "source": [
        "# # Set seed for reproducibility\n",
        "# set.seed(5678)\n",
        "# # null model (for comparison)\n",
        "# expv0 <- brm(\n",
        "#     family = poisson(link = \"log\"),\n",
        "#     formula = Count ~ 1 + (1 | Chamber),\n",
        "#     data = data_exp_clean,\n",
        "#     prior = c(\n",
        "#         prior(normal(0, 0.5), class = \"Intercept\"),\n",
        "#         prior(normal(0, 0.5), class = \"sd\")\n",
        "#     ),\n",
        "#     sample_prior = TRUE,\n",
        "#     save_pars = save_pars(all = TRUE),\n",
        "#     control = list(adapt_delta = 0.99, max_treedepth = 12),\n",
        "#     iter = 15000,\n",
        "#     warmup = 5000,\n",
        "#     chains = 2,\n",
        "#     cores = parallel::detectCores(logical=FALSE),\n",
        "#     backend = \"rstan\"\n",
        "# )\n",
        "# saveRDS(expv0, file = \"C:/Users/bmc82/Documents/UF/PhD_Projects/DISSERTATION_MANUSCRIPT/Chapter_3/chapter3_data_analysis/data/models/expv0.rds\")\n",
        "\n",
        "\n",
        "# # Set seed for reproducibility\n",
        "# set.seed(5678)\n",
        "# # zero-inflated model (for comparison)\n",
        "# expv1_ZI <- brm(\n",
        "#     family = zero_inflated_poisson(link = \"log\"),\n",
        "#     formula = Count ~ 1 + Microhabitat + Time + (1 | Chamber),\n",
        "#     data = data_exp_clean,\n",
        "#     prior = c(\n",
        "#         prior(normal(0, 0.5), class = \"Intercept\"),\n",
        "#         prior(normal(0, 0.5), class = \"sd\")\n",
        "#     ),\n",
        "#     sample_prior = TRUE,\n",
        "#     save_pars = save_pars(all = TRUE),\n",
        "#     control = list(adapt_delta = 0.99, max_treedepth = 12),\n",
        "#     iter = 15000,\n",
        "#     warmup = 5000,\n",
        "#     chains = 2,\n",
        "#     cores = parallel::detectCores(logical=FALSE),\n",
        "#     backend = \"rstan\"\n",
        "# )\n",
        "# saveRDS(expv1_ZI, file = \"C:/Users/bmc82/Documents/UF/PhD_Projects/DISSERTATION_MANUSCRIPT/Chapter_3/chapter3_data_analysis/data/models/expv1_ZI.rds\")\n",
        "\n",
        "\n",
        "# # Set seed for reproducibility\n",
        "# set.seed(5678)\n",
        "# # Model with no interaction effects\n",
        "# expv1 <- brm(\n",
        "#     family = poisson(link = \"log\"),\n",
        "#     formula = Count ~ 1 + Microhabitat + Time + (1 | Chamber),\n",
        "#     data = data_exp_clean,\n",
        "#     prior = c(\n",
        "#         prior(normal(0, 0.5), class = \"Intercept\"),\n",
        "#         prior(normal(0, 0.5), class = \"b\"),\n",
        "#         prior(normal(0, 0.5), class = \"sd\")\n",
        "#     ),\n",
        "#     sample_prior = TRUE,\n",
        "#     save_pars = save_pars(all = TRUE),\n",
        "#     control = list(adapt_delta = 0.99, max_treedepth = 12),\n",
        "#     iter = 15000,\n",
        "#     warmup = 5000,\n",
        "#     chains = 2,\n",
        "#     cores = parallel::detectCores(logical=FALSE),\n",
        "#     backend = \"rstan\"\n",
        "# )\n",
        "# saveRDS(expv1, file = \"C:/Users/bmc82/Documents/UF/PhD_Projects/DISSERTATION_MANUSCRIPT/Chapter_3/chapter3_data_analysis/data/models/expv1.rds\")\n",
        "\n",
        "\n",
        "# # Set seed for reproducibility\n",
        "# set.seed(5678)\n",
        "# # Model with interaction effects\n",
        "# expv2 <- brm(\n",
        "#     family = poisson(link = \"log\"),\n",
        "#     formula = Count ~ 1 + Microhabitat * Time + (1 | Chamber),\n",
        "#     data = data_exp_clean,\n",
        "#     prior = c(\n",
        "#         prior(normal(0, 0.5), class = \"Intercept\"),\n",
        "#         prior(normal(0, 0.5), class = \"b\"),\n",
        "#         prior(normal(0, 0.5), class = \"sd\")\n",
        "#     ),\n",
        "#     sample_prior = TRUE,\n",
        "#     save_pars = save_pars(all = TRUE),\n",
        "#     control = list(adapt_delta = 0.99, max_treedepth = 12),\n",
        "#     iter = 15000,\n",
        "#     warmup = 5000,\n",
        "#     chains = 2,\n",
        "#     cores = parallel::detectCores(logical=FALSE),\n",
        "#     backend = \"rstan\"\n",
        "# )\n",
        "# saveRDS(expv2, file = \"C:/Users/bmc82/Documents/UF/PhD_Projects/DISSERTATION_MANUSCRIPT/Chapter_3/chapter3_data_analysis/data/models/expv2.rds\")\n"
      ]
    },
    {
      "cell_type": "markdown",
      "metadata": {
        "vscode": {
          "languageId": "r"
        }
      },
      "source": [
        "#### *Model comparison*\n",
        "\n",
        "Use LOO to compare models and check to see which predictors perform best.\n"
      ]
    },
    {
      "cell_type": "markdown",
      "metadata": {},
      "source": [
        ">**Note:** We will added loo to these models in RStudio. The models were saved in RStudio and loaded below. We left the code chunks as comments for reference."
      ]
    },
    {
      "cell_type": "code",
      "execution_count": null,
      "metadata": {
        "vscode": {
          "languageId": "r"
        }
      },
      "outputs": [],
      "source": [
        "# # Add LOO to models\n",
        "# expv0 <- add_criterion(expv0, \"loo\", moment_match = TRUE)\n",
        "# expv1 <- add_criterion(expv1, \"loo\", moment_match = TRUE)\n",
        "# expv2 <- add_criterion(expv2, \"loo\", moment_match = TRUE)\n",
        "\n",
        "# Save models with loo so you don't have to do this again\n",
        "# saveRDS(expv0, file = \"C:/Users/bmc82/Documents/UF/PhD_Projects/DISSERTATION_MANUSCRIPT/Chapter_3/chapter3_data_analysis/data/models/expv0.rds\")\n",
        "# saveRDS(expv1, file = \"C:/Users/bmc82/Documents/UF/PhD_Projects/DISSERTATION_MANUSCRIPT/Chapter_3/chapter3_data_analysis/data/models/expv1.rds\")\n",
        "# saveRDS(expv2, file = \"C:/Users/bmc82/Documents/UF/PhD_Projects/DISSERTATION_MANUSCRIPT/Chapter_3/chapter3_data_analysis/data/models/expv2.rds\")"
      ]
    },
    {
      "cell_type": "code",
      "execution_count": null,
      "metadata": {
        "tags": [
          "hide-cell"
        ],
        "vscode": {
          "languageId": "r"
        }
      },
      "outputs": [],
      "source": [
        "# Load models from R\n",
        "expv0 <- readRDS(\"C:/Users/bmc82/Documents/UF/PhD_Projects/DISSERTATION_MANUSCRIPT/Chapter_3/chapter3_data_analysis/data/models/expv0.rds\")\n",
        "expv1 <- readRDS(\"C:/Users/bmc82/Documents/UF/PhD_Projects/DISSERTATION_MANUSCRIPT/Chapter_3/chapter3_data_analysis/data/models/expv1.rds\")\n",
        "expv2 <- readRDS(\"C:/Users/bmc82/Documents/UF/PhD_Projects/DISSERTATION_MANUSCRIPT/Chapter_3/chapter3_data_analysis/data/models/expv2.rds\")\n"
      ]
    },
    {
      "cell_type": "code",
      "execution_count": null,
      "metadata": {
        "vscode": {
          "languageId": "r"
        }
      },
      "outputs": [],
      "source": [
        "\n",
        "# Compare models with loo\n",
        "loo1 <- loo_compare(expv0, expv1, expv2)"
      ]
    },
    {
      "cell_type": "code",
      "execution_count": null,
      "metadata": {
        "tags": [
          "hide-cell"
        ],
        "vscode": {
          "languageId": "r"
        }
      },
      "outputs": [],
      "source": [
        "# Convert to dataframe\n",
        "df_loo1 <- as.data.frame(loo1) %>%\n",
        "  rownames_to_column(var = \"Model\")\n",
        "\n",
        "# Save loo as tables\n",
        "write.table(df_loo1, \"C:/Users/bmc82/Documents/UF/PhD_Projects/DISSERTATION_MANUSCRIPT/Chapter_3/chapter3_data_analysis/data/tables/table_loo_exp.csv\", sep = \",\", row.names = TRUE, col.names = TRUE)\n"
      ]
    },
    {
      "cell_type": "code",
      "execution_count": null,
      "metadata": {
        "tags": [
          "hide-input"
        ],
        "vscode": {
          "languageId": "r"
        }
      },
      "outputs": [],
      "source": [
        "# Convert each data frame to a plain HTML table string\n",
        "table_1_loo <- minimal_html_table(df_loo1, caption = \"LOO values - Pod Count\")\n",
        "\n",
        "my_tabs_loo <- '\n",
        "<style>\n",
        "/* Basic container styling */\n",
        ".tabs-container {\n",
        "  width: 100%;\n",
        "  margin: 1em 0;\n",
        "}\n",
        "\n",
        "/* Hide the radio inputs (we only show their labels as tabs) */\n",
        ".tabs-container input[type=\"radio\"] {\n",
        "  display: none;\n",
        "}\n",
        "\n",
        "/* The “tab-label” styling: looks like a tab */\n",
        ".tab-label {\n",
        "  display: inline-block;\n",
        "  padding: 10px;\n",
        "  margin-right: 2px;\n",
        "  background: #eee;\n",
        "  border: 1px solid #ccc;\n",
        "  cursor: pointer;\n",
        "  border-bottom: none;\n",
        "}\n",
        "\n",
        "/* The active tab label */\n",
        ".tab-label-active {\n",
        "  background: #fff;\n",
        "}\n",
        "\n",
        "/* The panel that holds table content */\n",
        ".tab-content {\n",
        "  border: 1px solid #ccc;\n",
        "  padding: 10px;\n",
        "  display: none;\n",
        "}\n",
        "\n",
        "/* For each radio input, show its corresponding content when checked */\n",
        "#tab1_loo:checked ~ #content1_loo {\n",
        "  display: block;\n",
        "}\n",
        "\n",
        "/* Also style the label of the checked radio as “active” using the :checked + label technique */\n",
        "#tab1_loo:checked + label[for=\"tab1_loo\"] {\n",
        "  background: #fff;\n",
        "  border-bottom: none;\n",
        "}\n",
        "</style>\n",
        "\n",
        "<div class=\"tabs-container\">\n",
        "\n",
        "  <!-- 1) Tab radio + label -->\n",
        "  <input type=\"radio\" name=\"tabs_loo\" id=\"tab1_loo\" checked>\n",
        "  <label class=\"tab-label\" for=\"tab1_loo\">Table 1</label>\n",
        "\n",
        "  <!-- Content for each tab -->\n",
        "  <div class=\"tab-content\" id=\"content1_loo\">REPLACE_WITH_table_1</div>\n",
        "</div>\n",
        "'\n",
        "\n",
        "# Now do the replacements for each table\n",
        "my_tabs_loo <- gsub(\"REPLACE_WITH_table_1\", table_1_loo, my_tabs_loo)\n",
        "\n",
        "IRdisplay::display_html(my_tabs_loo)"
      ]
    },
    {
      "cell_type": "markdown",
      "metadata": {},
      "source": [
        "\n",
        "#### **Visualize posteriors**\n",
        "\n",
        "We extract the final model results and visualize the posteriors of our model parameters to get an idea of the significance of the results. This is what we did above when we were evaluating our priors."
      ]
    },
    {
      "cell_type": "code",
      "execution_count": null,
      "metadata": {
        "tags": [
          "hide-input"
        ],
        "vscode": {
          "languageId": "r"
        }
      },
      "outputs": [],
      "source": [
        "# Extract results\n",
        "posterior_samples_expv1 <- as_draws_df(expv1)\n",
        "posterior_samples_expv2 <- as_draws_df(expv2)"
      ]
    },
    {
      "cell_type": "code",
      "execution_count": null,
      "metadata": {
        "tags": [
          "hide-cell"
        ],
        "vscode": {
          "languageId": "r"
        }
      },
      "outputs": [],
      "source": [
        "\n",
        "# List of datasets and labels\n",
        "predictor_samples <- list(\n",
        "    Count = posterior_samples_expv1\n",
        ")\n",
        "\n",
        "predictor_samples_interaction <- list(\n",
        "    Count = posterior_samples_expv2\n",
        ")\n",
        "\n",
        "# Baseline category data\n",
        "baseline_data <- tibble(\n",
        "  parameter = \"Red_Algae\",\n",
        "  mean = 0,  # Centered at 0\n",
        "  ci_low = -0.2,  # Example CI range\n",
        "  ci_high = 0.2\n",
        ")\n",
        "\n",
        "# Order categories so \"Red Algae\" appears at the bottom\n",
        "parameter_order <- c(\n",
        "  \"Red_Algae\",\n",
        "  \"b_MicrohabitatSand\",\n",
        "  \"b_MicrohabitatSertulariidae\",\n",
        "  \"b_MicrohabitatHydrallmania\"\n",
        ")\n",
        "\n",
        "#Custom labels\n",
        "custom_labels_posteriors <- c(\n",
        "  \"Red_Algae\" = \"Red Algae\",\n",
        "  \"b_MicrohabitatSand\" = \"Sand\",\n",
        "  \"b_MicrohabitatSertulariidae\" = \"Sertulariidae\",\n",
        "  \"b_MicrohabitatHydrallmania\" = \"Hydrallmania\"\n",
        ")\n",
        "\n",
        "\n",
        "# Convert the y-axis parameters to factors for consistent alignment\n",
        "baseline_data$parameter <- factor(baseline_data$parameter, levels = parameter_order)\n",
        "\n",
        "\n",
        "\n",
        "# Generate plots for predictors\n",
        "predictor_plots <- lapply(\n",
        "    names(predictor_samples),\n",
        "    function(label) {\n",
        "        generate_posterior_plot(\n",
        "            predictor_samples[[label]],\n",
        "            regex_pars = c(\n",
        "                \"b_MicrohabitatSand\",\n",
        "                \"b_MicrohabitatSertulariidae\",\n",
        "                \"b_MicrohabitatHydrallmania\"\n",
        "            ),\n",
        "            x_range = c(-2, 2),\n",
        "            custom_labels = custom_labels_posteriors,\n",
        "            axis_title_y = label %in% c(\"Count\")\n",
        "        ) +\n",
        "        geom_point(\n",
        "            data = baseline_data,\n",
        "            aes(x = mean, y = parameter),\n",
        "            inherit.aes = FALSE,\n",
        "            color = \"dodgerblue4\",\n",
        "            size = 2\n",
        "        )\n",
        "    }\n",
        ")\n",
        "names(predictor_plots) <- names(predictor_samples)\n",
        "\n",
        "\n",
        "predictor_plots_interaction <- lapply(\n",
        "    names(predictor_samples_interaction),\n",
        "    function(label) {\n",
        "        generate_posterior_plot(\n",
        "            predictor_samples_interaction[[label]],\n",
        "            regex_pars = c(\n",
        "                \"^b_MicrohabitatSand$\",\n",
        "                \"^b_MicrohabitatSertulariidae$\",\n",
        "                \"^b_MicrohabitatHydrallmania$\"\n",
        "            ),\n",
        "            x_range = c(-2, 2),\n",
        "            custom_labels = custom_labels_posteriors,\n",
        "            axis_title_y = label %in% c(\"Count\")\n",
        "        ) +\n",
        "        geom_point(\n",
        "          data = baseline_data,\n",
        "          aes(x = mean, y = parameter),\n",
        "          inherit.aes = FALSE,\n",
        "          color = \"dodgerblue4\",\n",
        "          size = 2\n",
        "        )\n",
        "    }\n",
        ")\n",
        "names(predictor_plots_interaction) <- names(predictor_samples_interaction)\n",
        "\n",
        "\n",
        "\n",
        "\n",
        "# Add grey bars with labels for each plot\n",
        "\n",
        "predictor_plots_with_bars <- mapply(\n",
        "    function(plot, label) {\n",
        "        patchwork::wrap_elements(create_top_bar(\"Pod Count\")) / plot +\n",
        "            patchwork::plot_layout(heights = c(0.2, 1)) # Adjust heights to reduce spacing\n",
        "    },\n",
        "    predictor_plots,\n",
        "    names(predictor_plots),\n",
        "    SIMPLIFY = FALSE\n",
        ")\n",
        "\n",
        "predictor_plots_interaction_with_bars <- mapply(\n",
        "    function(plot, label) {\n",
        "        patchwork::wrap_elements(create_top_bar(\"Pod Count\\n(with Interaction Effects)\")) / plot +\n",
        "            patchwork::plot_layout(heights = c(0.2, 1)) # Adjust heights to reduce spacing\n",
        "    },\n",
        "    predictor_plots_interaction,\n",
        "    names(predictor_plots_interaction),\n",
        "    SIMPLIFY = FALSE\n",
        ")\n",
        "\n",
        "\n",
        "\n",
        "# Combine plots into a 2x3 grid\n",
        "plot_posteriors_expv1 <- patchwork::wrap_plots(\n",
        "    predictor_plots_with_bars[c(\"Count\")],\n",
        "    ncol = 1\n",
        ") +\n",
        "    patchwork::plot_layout(guides = \"collect\")\n",
        "\n",
        "plot_posteriors_expv2 <- patchwork::wrap_plots(\n",
        "    predictor_plots_interaction_with_bars[c(\"Count\")],\n",
        "    ncol = 1\n",
        ") +\n",
        "    patchwork::plot_layout(guides = \"collect\")\n",
        "\n",
        "\n",
        "# Add a unified x-axis label\n",
        "plot_posteriors_expv1 <- plot_posteriors_expv1 +\n",
        "    patchwork::plot_annotation(\n",
        "        caption = \"Expected value of the odds response (log scale)\",\n",
        "        theme = theme(plot.caption = element_text(hjust = 0.65, size = 10))\n",
        "    )\n",
        "\n",
        "plot_posteriors_expv2 <- plot_posteriors_expv2 +\n",
        "    patchwork::plot_annotation(\n",
        "        caption = \"Expected value of the odds response (log scale)\",\n",
        "        theme = theme(plot.caption = element_text(hjust = 0.65, size = 10))\n",
        "    )\n",
        "\n",
        "\n",
        "ggsave(\"C:/Users/bmc82/Documents/UF/PhD_Projects/DISSERTATION_MANUSCRIPT/Chapter_3/chapter3_data_analysis/images/plot_posteriors_expv1.png\", plot = plot_posteriors_expv1, width = 4.5, height = 6, units = \"in\", dpi = 300)\n",
        "\n",
        "ggsave(\"C:/Users/bmc82/Documents/UF/PhD_Projects/DISSERTATION_MANUSCRIPT/Chapter_3/chapter3_data_analysis/images/plot_posteriors_expv2.png\", plot = plot_posteriors_expv2, width = 4.5, height = 6, units = \"in\", dpi = 300)\n"
      ]
    },
    {
      "cell_type": "code",
      "execution_count": null,
      "metadata": {
        "tags": [
          "hide-input"
        ],
        "vscode": {
          "languageId": "r"
        }
      },
      "outputs": [],
      "source": [
        "# Convert images to base64\n",
        "plot_posteriors_expv1 <- knitr::image_uri(\"C:/Users/bmc82/Documents/UF/PhD_Projects/DISSERTATION_MANUSCRIPT/Chapter_3/chapter3_data_analysis/images/plot_posteriors_expv1.png\")\n",
        "\n",
        "plot_posteriors_expv2 <- knitr::image_uri(\"C:/Users/bmc82/Documents/UF/PhD_Projects/DISSERTATION_MANUSCRIPT/Chapter_3/chapter3_data_analysis/images/plot_posteriors_expv2.png\")\n",
        "\n",
        "# Create the HTML \n",
        "html_posteriors <- paste0(\"\n",
        "  <style>\n",
        "    .image-row {\n",
        "      display: flex;\n",
        "      gap: 20px;\n",
        "      justify-content: center;\n",
        "      align-items: flex-start;\n",
        "    }\n",
        "    .image-row img {\n",
        "      max-width: 48%;\n",
        "      height: auto;\n",
        "      border: 1px solid #ccc;\n",
        "    }\n",
        "  </style>\n",
        "<div class='image-row'>\n",
        "  <img src='\", plot_posteriors_expv1, \"' alt='Posterior Plot'>\n",
        "  <img src='\", plot_posteriors_expv2, \"' alt='Posterior Plot (with interactions)'>\n",
        "</div>\n",
        "\")\n",
        "\n",
        "# Display the HTML\n",
        "IRdisplay::display_html(html_posteriors)"
      ]
    },
    {
      "cell_type": "markdown",
      "metadata": {},
      "source": [
        "\n",
        "\n",
        "The graph of the posteriors gives us an idea of the significance of each predictor. We need to follow up with an evaluation of the model performance before we can trust these results.\n",
        "\n",
        "---\n",
        "\n",
        "### 7. Evaluate model performance\n",
        "\n",
        "#### **Overdispersion test**\n",
        "\n",
        "The standard Poisson model assumes that the mean equals the variance. If this assumption is violated, it will affect our final model choice above. Thus, we need to test for over-dispersion. \n"
      ]
    },
    {
      "cell_type": "code",
      "execution_count": null,
      "metadata": {
        "vscode": {
          "languageId": "r"
        }
      },
      "outputs": [],
      "source": [
        "# Is our data OVER-DISPERSED? \n",
        "data_exp_clean <- read.csv(\"C:/Users/bmc82/Documents/UF/PhD_Projects/DISSERTATION_MANUSCRIPT/Chapter_3/chapter3_data_analysis/data/cleaned/data_exp_clean.csv\")\n",
        "\n",
        "# Calculate mean and variance of the observed data\n",
        "mean_count <- mean(data_exp_clean$Count)\n",
        "var_count <- var(data_exp_clean$Count)\n",
        "\n",
        "# Check for overdispersion\n",
        "dispersion_ratio <- var_count / mean_count\n",
        "print(dispersion_ratio)\n",
        "\n",
        "#If this ratio is much greater than 1, your data is likely overdispersed. If not, you are good."
      ]
    },
    {
      "cell_type": "markdown",
      "metadata": {},
      "source": [
        "---\n",
        "\n",
        "#### **Zero inflation test**\n",
        "\n",
        "The standard Poisson model assumes no zero inflation. If this assumption is violated, it will affect our final model choice above. Thus, we need to test for zero-inflation.\n"
      ]
    },
    {
      "cell_type": "code",
      "execution_count": null,
      "metadata": {
        "vscode": {
          "languageId": "r"
        }
      },
      "outputs": [],
      "source": [
        "# # Add LOO to model\n",
        "# expv1_ZI <- add_criterion(expv1_ZI, \"loo\", moment_match = TRUE)\n",
        "\n",
        "# Save model with loo so you don't have to do this again\n",
        "# saveRDS(expv1_ZI, file = \"C:/Users/bmc82/Documents/UF/PhD_Projects/DISSERTATION_MANUSCRIPT/Chapter_3/chapter3_data_analysis/data/models/expv1_ZI.rds\")"
      ]
    },
    {
      "cell_type": "code",
      "execution_count": null,
      "metadata": {
        "tags": [
          "hide-cell"
        ],
        "vscode": {
          "languageId": "r"
        }
      },
      "outputs": [],
      "source": [
        "# Load models\n",
        "expv1_ZI <- readRDS(\"C:/Users/bmc82/Documents/UF/PhD_Projects/DISSERTATION_MANUSCRIPT/Chapter_3/chapter3_data_analysis/data/models/expv1_ZI.rds\")\n",
        "expv1 <- readRDS(\"C:/Users/bmc82/Documents/UF/PhD_Projects/DISSERTATION_MANUSCRIPT/Chapter_3/chapter3_data_analysis/data/models/expv1.rds\")\n",
        "expv2 <- readRDS(\"C:/Users/bmc82/Documents/UF/PhD_Projects/DISSERTATION_MANUSCRIPT/Chapter_3/chapter3_data_analysis/data/models/expv2.rds\")\n"
      ]
    },
    {
      "cell_type": "code",
      "execution_count": null,
      "metadata": {
        "vscode": {
          "languageId": "r"
        }
      },
      "outputs": [],
      "source": [
        "\n",
        "# Compare models with loo\n",
        "loo_ZI <- loo_compare(expv1_ZI, expv1, expv2)"
      ]
    },
    {
      "cell_type": "code",
      "execution_count": null,
      "metadata": {
        "tags": [
          "hide-cell"
        ],
        "vscode": {
          "languageId": "r"
        }
      },
      "outputs": [],
      "source": [
        "# Convert to dataframe\n",
        "df_loo_ZI <- as.data.frame(loo_ZI) %>%\n",
        "  rownames_to_column(var = \"Model\")\n",
        "\n",
        "# Save loo as tables\n",
        "write.table(df_loo_ZI, \"C:/Users/bmc82/Documents/UF/PhD_Projects/DISSERTATION_MANUSCRIPT/Chapter_3/chapter3_data_analysis/data/tables/table_loo_exp_ZI.csv\", sep = \",\", row.names = TRUE, col.names = TRUE)"
      ]
    },
    {
      "cell_type": "code",
      "execution_count": null,
      "metadata": {
        "tags": [
          "hide-input"
        ],
        "vscode": {
          "languageId": "r"
        }
      },
      "outputs": [],
      "source": [
        "\n",
        "# Convert each data frame to a plain HTML table string\n",
        "table_1_loo_ZI <- minimal_html_table(df_loo_ZI, caption = \"LOO values - Pod Count\")\n",
        "\n",
        "my_tabs_loo_ZI <- '\n",
        "<style>\n",
        "/* Basic container styling */\n",
        ".tabs-container {\n",
        "  width: 100%;\n",
        "  margin: 1em 0;\n",
        "}\n",
        "\n",
        "/* Hide the radio inputs (we only show their labels as tabs) */\n",
        ".tabs-container input[type=\"radio\"] {\n",
        "  display: none;\n",
        "}\n",
        "\n",
        "/* The “tab-label” styling: looks like a tab */\n",
        ".tab-label {\n",
        "  display: inline-block;\n",
        "  padding: 10px;\n",
        "  margin-right: 2px;\n",
        "  background: #eee;\n",
        "  border: 1px solid #ccc;\n",
        "  cursor: pointer;\n",
        "  border-bottom: none;\n",
        "}\n",
        "\n",
        "/* The active tab label */\n",
        ".tab-label-active {\n",
        "  background: #fff;\n",
        "}\n",
        "\n",
        "/* The panel that holds table content */\n",
        ".tab-content {\n",
        "  border: 1px solid #ccc;\n",
        "  padding: 10px;\n",
        "  display: none;\n",
        "}\n",
        "\n",
        "/* For each radio input, show its corresponding content when checked */\n",
        "#tab1_loo_ZI:checked ~ #content1_loo_ZI {\n",
        "  display: block;\n",
        "}\n",
        "\n",
        "/* Also style the label of the checked radio as “active” using the :checked + label technique */\n",
        "#tab1_loo_ZI:checked + label[for=\"tab1_loo_ZI\"] {\n",
        "  background: #fff;\n",
        "  border-bottom: none;\n",
        "}\n",
        "</style>\n",
        "\n",
        "<div class=\"tabs-container\">\n",
        "\n",
        "  <!-- 1) Tab radio + label -->\n",
        "  <input type=\"radio\" name=\"tabs_loo_ZI\" id=\"tab1_loo_ZI\" checked>\n",
        "  <label class=\"tab-label\" for=\"tab1_loo_ZI\">Table ZI</label>\n",
        "\n",
        "  <!-- Content for each tab -->\n",
        "  <div class=\"tab-content\" id=\"content1_loo_ZI\">REPLACE_WITH_table_1_ZI</div>\n",
        "</div>\n",
        "'\n",
        "\n",
        "# Now do the replacements for each table\n",
        "my_tabs_loo_ZI <- gsub(\"REPLACE_WITH_table_1_ZI\", table_1_loo_ZI, my_tabs_loo_ZI)\n",
        "\n",
        "IRdisplay::display_html(my_tabs_loo_ZI)"
      ]
    },
    {
      "cell_type": "markdown",
      "metadata": {},
      "source": [
        "\n",
        "The zero-inflated model performs worst, so there our data is not zero-inflated.\n",
        "\n",
        "#### **Trace plots**\n",
        "\n",
        "Visualize parameter sampling across iterations to confirm convergence. Each chain should wander around the same mean value without any strong upward or downward trends. \"fuzzy caterpillar\" or \"horizontal band.\" \n"
      ]
    },
    {
      "cell_type": "code",
      "execution_count": null,
      "metadata": {
        "tags": [
          "hide-cell"
        ],
        "vscode": {
          "languageId": "r"
        }
      },
      "outputs": [],
      "source": [
        "# Generate trace plots for all models\n",
        "trace_plots_expv1 <- generate_trace_plot(\n",
        "  model = expv1,\n",
        "  regex_pars = c(\"b_MicrohabitatSand\", \"b_MicrohabitatSertulariidae\", \"b_MicrohabitatHydrallmania\"),\n",
        "  plot_title = \"Pod Count Model\",\n",
        "  axis_title_y = TRUE,\n",
        "  axis_text_x = TRUE,\n",
        "  axis_title_size = 10,  # Increase axis title size\n",
        "  axis_text_size = 8    # Increase axis tick label size\n",
        ")\n",
        "\n",
        "trace_plots_expv2 <- generate_trace_plot(\n",
        "  model = expv2,\n",
        "  regex_pars = c(\"^b_MicrohabitatSand$\", \"^b_MicrohabitatSertulariidae$\", \"^b_MicrohabitatHydrallmania$\"),\n",
        "  plot_title = \"Pod Count Model (with Interaction Effects)\",\n",
        "  axis_title_y = TRUE,\n",
        "  axis_text_x = TRUE,\n",
        "  axis_title_size = 10,  # Increase axis title size\n",
        "  axis_text_size = 8    # Increase axis tick label size\n",
        ")\n",
        "\n",
        "\n",
        "ggsave(\"C:/Users/bmc82/Documents/UF/PhD_Projects/DISSERTATION_MANUSCRIPT/Chapter_3/chapter3_data_analysis/images/trace_plots_expv1.png\", plot = trace_plots_expv1, width = 6, height = 3, units = \"in\", dpi = 300)\n",
        "\n",
        "ggsave(\"C:/Users/bmc82/Documents/UF/PhD_Projects/DISSERTATION_MANUSCRIPT/Chapter_3/chapter3_data_analysis/images/trace_plots_expv2.png\", plot = trace_plots_expv2, width = 6, height = 3, units = \"in\", dpi = 300)\n",
        "\n"
      ]
    },
    {
      "cell_type": "code",
      "execution_count": null,
      "metadata": {
        "tags": [
          "hide-input"
        ],
        "vscode": {
          "languageId": "r"
        }
      },
      "outputs": [],
      "source": [
        "# Convert images to base64 (if not already done)\n",
        "trace_plots_expv1 <- knitr::image_uri(\"C:/Users/bmc82/Documents/UF/PhD_Projects/DISSERTATION_MANUSCRIPT/Chapter_3/chapter3_data_analysis/images/trace_plots_expv1.png\")\n",
        "trace_plots_expv2     <- knitr::image_uri(\"C:/Users/bmc82/Documents/UF/PhD_Projects/DISSERTATION_MANUSCRIPT/Chapter_3/chapter3_data_analysis/images/trace_plots_expv2.png\")\n",
        "\n",
        "\n",
        "# Create the HTML \n",
        "html_trace_plots <- paste0(\"\n",
        "<style>\n",
        "  .grid-container {\n",
        "    display: grid;\n",
        "    grid-template-columns: repeat(1, 1fr); /* 1 columns per row */\n",
        "    gap: 3px;\n",
        "    padding: 3px;\n",
        "    justify-items: center;\n",
        "  }\n",
        "\n",
        "  .grid-container img {\n",
        "    max-width: 600px;\n",
        "    width: 100%;\n",
        "    height: auto;\n",
        "    border: 1px solid #ccc;\n",
        "  }\n",
        "</style>\n",
        "\n",
        "<div class='grid-container'>\n",
        "  <img src='\", trace_plots_expv1, \"' alt='Trace Plot'>\n",
        "  <img src='\", trace_plots_expv2, \"' alt='Trace Plot (with interactions)'>\n",
        "</div>\n",
        "\")\n",
        "\n",
        "# Display the HTML\n",
        "IRdisplay::display_html(html_trace_plots)"
      ]
    },
    {
      "cell_type": "markdown",
      "metadata": {},
      "source": [
        "\n",
        "\n",
        "#### **Posterior predictive checks**\n",
        "\n",
        "Simulate data based on the models and compare to observed data to verify goodness-of-fit. We do this using \"pp_check\". The observed data (black line/dots) should sit comfortably within the distribution of simulated data (colored areas or lines)"
      ]
    },
    {
      "cell_type": "code",
      "execution_count": null,
      "metadata": {
        "tags": [
          "hide-cell"
        ],
        "vscode": {
          "languageId": "r"
        }
      },
      "outputs": [],
      "source": [
        "# Generate posterior predictive check plots for all models\n",
        "pp_check_plots_expv1 <-  generate_pp_check(\n",
        "  model = expv1,\n",
        "  nreps = 100,\n",
        "  axis_title_y = TRUE,\n",
        "  y_label = \"Density\",\n",
        "  plot_title = \"Pod Occurrence Model\",\n",
        "  axis_title_size = 10,  # custom title size\n",
        "  axis_text_size = 8    # custom tick label size\n",
        ")\n",
        "\n",
        "pp_check_plots_expv2 <-  generate_pp_check(\n",
        "  model = expv2,\n",
        "  nreps = 100,\n",
        "  axis_title_y = TRUE,\n",
        "  y_label = \"Density\",\n",
        "  plot_title = \"Pod Occurrence (with Interactions) Model\",\n",
        "  axis_title_size = 10,  # custom title size\n",
        "  axis_text_size = 8    # custom tick label size\n",
        ")\n",
        "\n",
        "ggsave(\"C:/Users/bmc82/Documents/UF/PhD_Projects/DISSERTATION_MANUSCRIPT/Chapter_3/chapter3_data_analysis/images/pp_check_plots_expv1.png\", plot = pp_check_plots_expv1, width = 3, height = 3, units = \"in\", dpi = 300)\n",
        "\n",
        "ggsave(\"C:/Users/bmc82/Documents/UF/PhD_Projects/DISSERTATION_MANUSCRIPT/Chapter_3/chapter3_data_analysis/images/pp_check_plots_expv2.png\", plot = pp_check_plots_expv2, width = 3, height = 3, units = \"in\", dpi = 300)"
      ]
    },
    {
      "cell_type": "code",
      "execution_count": null,
      "metadata": {
        "tags": [
          "hide-input"
        ],
        "vscode": {
          "languageId": "r"
        }
      },
      "outputs": [],
      "source": [
        "# Convert images to base64\n",
        "pp_check_plots_expv1 <- knitr::image_uri(\"C:/Users/bmc82/Documents/UF/PhD_Projects/DISSERTATION_MANUSCRIPT/Chapter_3/chapter3_data_analysis/images/pp_check_plots_expv1.png\")\n",
        "pp_check_plots_expv2 <- knitr::image_uri(\"C:/Users/bmc82/Documents/UF/PhD_Projects/DISSERTATION_MANUSCRIPT/Chapter_3/chapter3_data_analysis/images/pp_check_plots_expv2.png\")\n",
        "\n",
        "\n",
        "# Create the HTML (horizontal display)\n",
        "html_pp_check_plots <- paste0(\"\n",
        "  <style>\n",
        "    .image-row {\n",
        "      display: flex;\n",
        "      gap: 20px;\n",
        "      justify-content: center;\n",
        "      align-items: flex-start;\n",
        "    }\n",
        "    .image-row img {\n",
        "      max-width: 48%;\n",
        "      height: auto;\n",
        "      border: 1px solid #ccc;\n",
        "    }\n",
        "  </style>\n",
        "<div class='image-row'>\n",
        "  <img src='\", pp_check_plots_expv1, \"' alt='Pod Count PP Plot'>\n",
        "  <img src='\", pp_check_plots_expv2, \"' alt='Pod Count (with Interactions) PP Plot'>\n",
        "</div>\n",
        "\")\n",
        "\n",
        "IRdisplay::display_html(html_pp_check_plots)"
      ]
    },
    {
      "cell_type": "markdown",
      "metadata": {},
      "source": [
        "\n",
        "\n",
        "#### **Check convergence**\n",
        "\n",
        "Check that all $\\hat{R}$ values are close to 1, indicating good convergence.\n"
      ]
    },
    {
      "cell_type": "code",
      "execution_count": null,
      "metadata": {
        "tags": [
          "hide-output"
        ],
        "vscode": {
          "languageId": "r"
        }
      },
      "outputs": [],
      "source": [
        "# Create a helper function\n",
        "extract_rhat <- function(model, model_name) {\n",
        "  rhat(model) %>%\n",
        "    as.data.frame() %>%\n",
        "    rownames_to_column(var = \"Parameter\") %>%\n",
        "    dplyr::filter(startsWith(Parameter, \"b_\")) %>%   # <-- keep only b_ terms\n",
        "    dplyr::rename(Rhat = 2) %>%\n",
        "    dplyr::mutate(Model = model_name) %>%\n",
        "    dplyr::mutate(across(where(is.numeric), ~ signif(.x, digits = 3)))\n",
        "}\n",
        "\n",
        "# Extract for each model group\n",
        "# Model without interaction effects\n",
        "rhat1 <- extract_rhat(expv1, \"Count\")\n",
        "\n",
        "# Model with interaction effects\n",
        "rhat2 <- extract_rhat(expv2, \"Count\")"
      ]
    },
    {
      "cell_type": "code",
      "execution_count": null,
      "metadata": {
        "vscode": {
          "languageId": "r"
        }
      },
      "outputs": [],
      "source": [
        "# Save tables\n",
        "write.table(rhat1, \"C:/Users/bmc82/Documents/UF/PhD_Projects/DISSERTATION_MANUSCRIPT/Chapter_3/chapter3_data_analysis/data/tables/table_rhat_expv1.csv\", sep = \",\", row.names = FALSE, col.names = TRUE)\n",
        "write.table(rhat2, \"C:/Users/bmc82/Documents/UF/PhD_Projects/DISSERTATION_MANUSCRIPT/Chapter_3/chapter3_data_analysis/data/tables/table_rhat_expv2.csv\", sep = \",\", row.names = FALSE, col.names = TRUE)"
      ]
    },
    {
      "cell_type": "code",
      "execution_count": null,
      "metadata": {
        "tags": [
          "hide-input"
        ],
        "vscode": {
          "languageId": "r"
        }
      },
      "outputs": [],
      "source": [
        "# Convert each data frame to a plain HTML table string\n",
        "table_1_rhat <- minimal_html_table(rhat1, caption = \"Rhat values - Counts\")\n",
        "table_2_rhat <- minimal_html_table(rhat2, caption = \"Rhat values - Counts with interaction effects\")\n",
        "\n",
        "my_tabs_rhat <- '\n",
        "<style>\n",
        "/* Basic container styling */\n",
        ".tabs-container {\n",
        "  width: 100%;\n",
        "  margin: 1em 0;\n",
        "}\n",
        "\n",
        "/* Hide the radio inputs (we only show their labels as tabs) */\n",
        ".tabs-container input[type=\"radio\"] {\n",
        "  display: none;\n",
        "}\n",
        "\n",
        "/* The “tab-label” styling: looks like a tab */\n",
        ".tab-label {\n",
        "  display: inline-block;\n",
        "  padding: 10px;\n",
        "  margin-right: 2px;\n",
        "  background: #eee;\n",
        "  border: 1px solid #ccc;\n",
        "  cursor: pointer;\n",
        "  border-bottom: none;\n",
        "}\n",
        "\n",
        "/* The active tab label */\n",
        ".tab-label-active {\n",
        "  background: #fff;\n",
        "}\n",
        "\n",
        "/* The panel that holds table content */\n",
        ".tab-content {\n",
        "  border: 1px solid #ccc;\n",
        "  padding: 10px;\n",
        "  display: none;\n",
        "}\n",
        "\n",
        "/* For each radio input, show its corresponding content when checked */\n",
        "#tab1_rhat:checked ~ #content1_rhat,\n",
        "#tab2_rhat:checked ~ #content2_rhat {\n",
        "  display: block;\n",
        "}\n",
        "\n",
        "/* Also style the label of the checked radio as “active” using the :checked + label technique */\n",
        "#tab1_rhat:checked + label[for=\"tab1_rhat\"],\n",
        "#tab2_rhat:checked + label[for=\"tab2_rhat\"] {\n",
        "  background: #fff;\n",
        "  border-bottom: none;\n",
        "}\n",
        "</style>\n",
        "\n",
        "<div class=\"tabs-container\">\n",
        "\n",
        "  <!-- 1) Tab radio + label -->\n",
        "  <input type=\"radio\" name=\"tabs_rhat\" id=\"tab1_rhat\" checked>\n",
        "  <label class=\"tab-label\" for=\"tab1_rhat\">Table 1</label>\n",
        "\n",
        "  <!-- 2) Tab radio + label -->\n",
        "  <input type=\"radio\" name=\"tabs_rhat\" id=\"tab2_rhat\">\n",
        "  <label class=\"tab-label\" for=\"tab2_rhat\">Table 2</label>\n",
        "\n",
        "  <!-- Content for each tab -->\n",
        "  <div class=\"tab-content\" id=\"content1_rhat\">REPLACE_WITH_table_1</div>\n",
        "  <div class=\"tab-content\" id=\"content2_rhat\">REPLACE_WITH_table_2</div>\n",
        "</div>\n",
        "'\n",
        "\n",
        "# Now do the replacements for each table\n",
        "my_tabs_rhat <- gsub(\"REPLACE_WITH_table_1\", table_1_rhat, my_tabs_rhat)\n",
        "my_tabs_rhat <- gsub(\"REPLACE_WITH_table_2\", table_2_rhat, my_tabs_rhat)\n",
        "\n",
        "IRdisplay::display_html(my_tabs_rhat)\n"
      ]
    },
    {
      "cell_type": "markdown",
      "metadata": {},
      "source": [
        "\n",
        "\n",
        "#### **Check uncertainty**\n",
        "\n",
        "Extract parameter estimates and their confidence intervals to assess the significance of the predictors on color pattern metrics. We check 85% and 95% confidence intervals. Summaries are displayed in tables for all models. "
      ]
    },
    {
      "cell_type": "code",
      "execution_count": null,
      "metadata": {
        "tags": [
          "hide-cell"
        ],
        "vscode": {
          "languageId": "r"
        }
      },
      "outputs": [],
      "source": [
        "# Extract summaries for each variable\n",
        "extract_summary <- function(model, prob_85, prob_95) {\n",
        "    summary_85 <- summary(model, prob = prob_85)\n",
        "    summary_95 <- summary(model, prob = prob_95)\n",
        "\n",
        "    as.data.frame(summary_85$fixed) %>%\n",
        "        dplyr::select(\"Estimate\", \"Est.Error\", \"l-85% CI\", \"u-85% CI\") %>%\n",
        "        mutate(\n",
        "            \"l-95% CI\" = summary_95$fixed$`l-95% CI`,\n",
        "            \"u-95% CI\" = summary_95$fixed$`u-95% CI`\n",
        "        ) %>%\n",
        "        mutate(across(where(is.numeric), ~ signif(.x, digits = 3))) %>%\n",
        "        rownames_to_column(var = \"Parameter\") # Add rownames as Parameter column\n",
        "}\n",
        "\n",
        "uncertainty1 <- extract_summary(expv1, prob_85 = 0.85, prob_95 = 0.95)\n",
        "uncertainty2 <- extract_summary(expv2, prob_85 = 0.85, prob_95 = 0.95)\n"
      ]
    },
    {
      "cell_type": "code",
      "execution_count": null,
      "metadata": {
        "tags": [
          "hide-cell"
        ],
        "vscode": {
          "languageId": "r"
        }
      },
      "outputs": [],
      "source": [
        "# Save tables\n",
        "write.table(uncertainty1, \"C:/Users/bmc82/Documents/UF/PhD_Projects/DISSERTATION_MANUSCRIPT/Chapter_3/chapter3_data_analysis/data/tables/table_uncertainty_expv1.csv\", sep = \",\", row.names = TRUE, col.names = TRUE)\n",
        "\n",
        "write.table(uncertainty2, \"C:/Users/bmc82/Documents/UF/PhD_Projects/DISSERTATION_MANUSCRIPT/Chapter_3/chapter3_data_analysis/data/tables/table_uncertainty_expv2.csv\", sep = \",\", row.names = TRUE, col.names = TRUE)\n"
      ]
    },
    {
      "cell_type": "code",
      "execution_count": null,
      "metadata": {
        "tags": [
          "hide-input"
        ],
        "vscode": {
          "languageId": "r"
        }
      },
      "outputs": [],
      "source": [
        "\n",
        "# Convert each data frame to a plain HTML table string\n",
        "table_1_uncertainty <- minimal_html_table(uncertainty1, caption = \"Uncertainty values - Counts\")\n",
        "table_2_uncertainty <- minimal_html_table(uncertainty2, caption = \"Uncertainty values - Counts with interaction effects\")\n",
        "\n",
        "my_tabs_uncertainty <- '\n",
        "<style>\n",
        "/* Basic container styling */\n",
        ".tabs-container {\n",
        "  width: 100%;\n",
        "  margin: 1em 0;\n",
        "}\n",
        "\n",
        "/* Hide the radio inputs (we only show their labels as tabs) */\n",
        ".tabs-container input[type=\"radio\"] {\n",
        "  display: none;\n",
        "}\n",
        "\n",
        "/* The “tab-label” styling: looks like a tab */\n",
        ".tab-label {\n",
        "  display: inline-block;\n",
        "  padding: 10px;\n",
        "  margin-right: 2px;\n",
        "  background: #eee;\n",
        "  border: 1px solid #ccc;\n",
        "  cursor: pointer;\n",
        "  border-bottom: none;\n",
        "}\n",
        "\n",
        "/* The active tab label */\n",
        ".tab-label-active {\n",
        "  background: #fff;\n",
        "}\n",
        "\n",
        "/* The panel that holds table content */\n",
        ".tab-content {\n",
        "  border: 1px solid #ccc;\n",
        "  padding: 10px;\n",
        "  display: none;\n",
        "}\n",
        "\n",
        "/* For each radio input, show its corresponding content when checked */\n",
        "#tab1_uncertainty:checked ~ #content1_uncertainty,\n",
        "#tab2_uncertainty:checked ~ #content2_uncertainty {\n",
        "  display: block;\n",
        "}\n",
        "\n",
        "/* Also style the label of the checked radio as “active” using the :checked + label technique */\n",
        "#tab1_uncertainty:checked + label[for=\"tab1_uncertainty\"],\n",
        "#tab2_uncertainty:checked + label[for=\"tab2_uncertainty\"] {\n",
        "  background: #fff;\n",
        "  border-bottom: none;\n",
        "}\n",
        "</style>\n",
        "\n",
        "<div class=\"tabs-container\">\n",
        "\n",
        "  <!-- 1) Tab radio + label -->\n",
        "  <input type=\"radio\" name=\"tabs_uncertainty\" id=\"tab1_uncertainty\" checked>\n",
        "  <label class=\"tab-label\" for=\"tab1_uncertainty\">Table 1</label>\n",
        "\n",
        "  <!-- 2) Tab radio + label -->\n",
        "  <input type=\"radio\" name=\"tabs_uncertainty\" id=\"tab2_uncertainty\">\n",
        "  <label class=\"tab-label\" for=\"tab2_uncertainty\">Table 2</label>\n",
        "\n",
        "  <!-- Content for each tab -->\n",
        "  <div class=\"tab-content\" id=\"content1_uncertainty\">REPLACE_WITH_table_1</div>\n",
        "  <div class=\"tab-content\" id=\"content2_uncertainty\">REPLACE_WITH_table_2</div>\n",
        "</div>\n",
        "'\n",
        "\n",
        "# Now do the replacements for each table\n",
        "my_tabs_uncertainty <- gsub(\"REPLACE_WITH_table_1\", table_1_uncertainty, my_tabs_uncertainty)\n",
        "my_tabs_uncertainty <- gsub(\"REPLACE_WITH_table_2\", table_2_uncertainty, my_tabs_uncertainty)\n",
        "\n",
        "IRdisplay::display_html(my_tabs_uncertainty)\n"
      ]
    },
    {
      "cell_type": "markdown",
      "metadata": {},
      "source": [
        "---\n",
        "\n",
        "#### **Check posterior probabilities**\n",
        "\n",
        "Now we can evaluate our hypotheses using the posterior distributions of the model parameters. Remember, we are concerned with two things: \n",
        "1. Is there a difference between the number of pods between microhabitats? (Microhabitat selection effect)\n",
        "2. Is there a difference between the number of pods over time? (Time effect)\n",
        "\n",
        "We will calculate the posterior probability of these effects."
      ]
    },
    {
      "cell_type": "code",
      "execution_count": null,
      "metadata": {
        "tags": [
          "hide-cell"
        ],
        "vscode": {
          "languageId": "r"
        }
      },
      "outputs": [],
      "source": [
        "##### **Posterior Probability of Microhabitat Effect**\n",
        "\n",
        "draws <- as_draws_df(expv1)\n",
        "\n",
        "# Posterior probability that Pod count on microhabitat is > Red Algae (reference microhabitat)\n",
        "pp_Hydrallmania_positive <- mean(draws$b_MicrohabitatHydrallmania > 0)\n",
        "pp_Sertulariidae_positive <- mean(draws$b_MicrohabitatSertulariidae > 0)\n",
        "pp_Sand_positive <- mean(draws$b_MicrohabitatSand > 0)\n",
        "\n",
        "# Posterior probability that Pod count on microhabitat is < Red Algae (reference microhabitat)\n",
        "pp_Hydrallmania_negative <- mean(draws$b_MicrohabitatHydrallmania < 0)\n",
        "pp_Sertulariidae_negative <- mean(draws$b_MicrohabitatSertulariidae < 0)\n",
        "pp_Sand_negative <- mean(draws$b_MicrohabitatSand < 0)\n",
        "\n",
        "\n",
        "# Create a summary table\n",
        "pp_summary_expv1_microhabitat <- data.frame(\n",
        "  Hypothesis = c(\n",
        "    \"P(Hydrallmania effect > 0)\",\n",
        "    \"P(Sand effect > 0)\",\n",
        "    \"P(Sertulariidae effect > 0)\",\n",
        "    \"P(Hydrallmania effect < 0)\",\n",
        "    \"P(Sand effect < 0)\",\n",
        "    \"P(Sertulariidae effect < 0)\"\n",
        "  ),\n",
        "  PosteriorProbability = c(\n",
        "    pp_Hydrallmania_positive,\n",
        "    pp_Sand_positive,\n",
        "    pp_Sertulariidae_positive,\n",
        "    pp_Hydrallmania_negative,\n",
        "    pp_Sand_negative,\n",
        "    pp_Sertulariidae_negative\n",
        "  )\n",
        ")\n",
        "\n",
        "# Save table\n",
        "write.table(pp_summary_expv1_microhabitat, \"C:/Users/bmc82/Documents/UF/PhD_Projects/DISSERTATION_MANUSCRIPT/Chapter_3/chapter3_data_analysis/data/tables/table_postprob_expv1_microhabitat.csv\", sep = \",\", row.names = TRUE, col.names = TRUE)"
      ]
    },
    {
      "cell_type": "code",
      "execution_count": null,
      "metadata": {
        "tags": [
          "hide-input"
        ],
        "vscode": {
          "languageId": "r"
        }
      },
      "outputs": [],
      "source": [
        "# Generate HTML table\n",
        "html_table <- minimal_html_table(pp_summary_expv1_microhabitat, caption = \"Posterior probabilities for Microhabitat Effect\")\n",
        "\n",
        "# Display it as HTML\n",
        "IRdisplay::display_html(html_table)"
      ]
    },
    {
      "cell_type": "code",
      "execution_count": null,
      "metadata": {
        "tags": [
          "hide-cell"
        ],
        "vscode": {
          "languageId": "r"
        }
      },
      "outputs": [],
      "source": [
        "##### **Posterior Probability of Time Effect**\n",
        "\n",
        "draws <- as_draws_df(expv1)\n",
        "\n",
        "# Posterior probability that time has a **positive** effect\n",
        "pp_time_positive <- mean(draws$b_Time > 0)\n",
        "\n",
        "# Posterior probability that time has a **negative** effect\n",
        "pp_time_negative <- mean(draws$b_Time < 0)\n",
        "\n",
        "\n",
        "# Create a summary table\n",
        "pp_summary_expv1_time <- data.frame(\n",
        "  Hypothesis = c(\n",
        "    \"P(Time effect > 0)\",\n",
        "    \"P(Time effect < 0)\"\n",
        "  ),\n",
        "  PosteriorProbability = c(\n",
        "    pp_time_positive,\n",
        "    pp_time_negative\n",
        "  )\n",
        ")\n",
        "\n",
        "# Save table\n",
        "write.table(pp_summary_expv1_time, \"C:/Users/bmc82/Documents/UF/PhD_Projects/DISSERTATION_MANUSCRIPT/Chapter_3/chapter3_data_analysis/data/tables/table_postprob_expv1_time.csv\", sep = \",\", row.names = TRUE, col.names = TRUE)\n"
      ]
    },
    {
      "cell_type": "code",
      "execution_count": null,
      "metadata": {
        "tags": [
          "hide-input"
        ],
        "vscode": {
          "languageId": "r"
        }
      },
      "outputs": [],
      "source": [
        "# Generate HTML table\n",
        "html_table <- minimal_html_table(pp_summary_expv1_time, caption = \"Posterior probabilities for Time Effect\")\n",
        "\n",
        "# Display it as HTML\n",
        "IRdisplay::display_html(html_table)"
      ]
    },
    {
      "cell_type": "code",
      "execution_count": null,
      "metadata": {
        "tags": [
          "hide-cell"
        ],
        "vscode": {
          "languageId": "r"
        }
      },
      "outputs": [],
      "source": [
        "##### **Posterior Probability of Microhabitat Effect (with interactions)**\n",
        "\n",
        "draws <- as_draws_df(expv2)\n",
        "\n",
        "# Posterior probability that Pod count on microhabitat is > Red Algae (reference microhabitat)\n",
        "pp_Hydrallmania_positive <- mean(draws[[\"b_MicrohabitatHydrallmania\"]] > 0)\n",
        "pp_Sertulariidae_positive <- mean(draws[[\"b_MicrohabitatSertulariidae\"]] > 0)\n",
        "pp_Sand_Time_positive <- mean(draws[[\"b_MicrohabitatSand\"]] > 0)\n",
        "\n",
        "# Posterior probability that Pod count on microhabitat is < Red Algae (reference microhabitat)\n",
        "pp_Hydrallmania_negative <- mean(draws[[\"b_MicrohabitatHydrallmania\"]] < 0)\n",
        "pp_Sertulariidae_negative <- mean(draws[[\"b_MicrohabitatSertulariidae\"]] < 0)\n",
        "pp_Sand_negative <- mean(draws[[\"b_MicrohabitatSand\"]] < 0)\n",
        "\n",
        "\n",
        "# Create a summary table\n",
        "pp_summary_expv2_microhabitat <- data.frame(\n",
        "  Hypothesis = c(\n",
        "    \"P(Hydrallmania effect > 0)\",\n",
        "    \"P(Sand effect > 0)\",\n",
        "    \"P(Sertulariidae effect > 0)\",\n",
        "    \"P(Hydrallmania effect < 0)\",\n",
        "    \"P(Sand effect < 0)\",\n",
        "    \"P(Sertulariidae effect < 0)\"\n",
        "\n",
        "  ),\n",
        "  PosteriorProbability = c(\n",
        "    pp_Hydrallmania_positive,\n",
        "    pp_Sand_positive,\n",
        "    pp_Sertulariidae_positive,\n",
        "    pp_Hydrallmania_negative,\n",
        "    pp_Sand_negative,\n",
        "    pp_Sertulariidae_negative\n",
        "  )\n",
        ")\n",
        "\n",
        "# Save table\n",
        "write.table(pp_summary_expv2_microhabitat, \"C:/Users/bmc82/Documents/UF/PhD_Projects/DISSERTATION_MANUSCRIPT/Chapter_3/chapter3_data_analysis/data/tables/table_postprob_expv2_microhabitat.csv\", sep = \",\", row.names = TRUE, col.names = TRUE)\n"
      ]
    },
    {
      "cell_type": "code",
      "execution_count": null,
      "metadata": {
        "tags": [
          "hide-input"
        ],
        "vscode": {
          "languageId": "r"
        }
      },
      "outputs": [],
      "source": [
        "# Generate HTML table\n",
        "html_table <- minimal_html_table(pp_summary_expv2_microhabitat, caption = \"Posterior probabilities for Microhabitat Effect with interaction effects\")\n",
        "\n",
        "# Display it as HTML\n",
        "IRdisplay::display_html(html_table)"
      ]
    },
    {
      "cell_type": "code",
      "execution_count": null,
      "metadata": {
        "tags": [
          "hide-cell"
        ],
        "vscode": {
          "languageId": "r"
        }
      },
      "outputs": [],
      "source": [
        "\n",
        "##### **Posterior Probability of Time Effect (with interactions)**\n",
        "\n",
        "draws <- as_draws_df(expv2)\n",
        "\n",
        "# Posterior probability that time has a **positive** effect\n",
        "pp_time_positive <- mean(draws$b_Time > 0)\n",
        "\n",
        "# Posterior probability that time has a **negative** effect\n",
        "pp_time_negative <- mean(draws$b_Time < 0)\n",
        "\n",
        "\n",
        "# Create a summary table\n",
        "pp_summary_expv2_time <- data.frame(\n",
        "  Hypothesis = c(\n",
        "    \"P(Time effect > 0)\",\n",
        "    \"P(Time effect < 0)\"\n",
        "  ),\n",
        "  PosteriorProbability = c(\n",
        "    pp_time_positive,\n",
        "    pp_time_negative\n",
        "  )\n",
        ")\n",
        "\n",
        "# Save table\n",
        "write.table(pp_summary_expv2_time, \"C:/Users/bmc82/Documents/UF/PhD_Projects/DISSERTATION_MANUSCRIPT/Chapter_3/chapter3_data_analysis/data/tables/table_postprob_expv2_time.csv\", sep = \",\", row.names = TRUE, col.names = TRUE)"
      ]
    },
    {
      "cell_type": "code",
      "execution_count": null,
      "metadata": {
        "tags": [
          "hide-input"
        ],
        "vscode": {
          "languageId": "r"
        }
      },
      "outputs": [],
      "source": [
        "\n",
        "# Generate HTML table\n",
        "html_table <- minimal_html_table(pp_summary_expv2_time, caption = \"Posterior probabilities for Time Effect with interaction effects\")\n",
        "\n",
        "# Display it as HTML\n",
        "IRdisplay::display_html(html_table)"
      ]
    },
    {
      "cell_type": "code",
      "execution_count": null,
      "metadata": {
        "tags": [
          "hide-cell"
        ],
        "vscode": {
          "languageId": "r"
        }
      },
      "outputs": [],
      "source": [
        "##### **Posterior Probability of Microhabitat*Time Effect\n",
        "\n",
        "draws <- as_draws_df(expv2)\n",
        "\n",
        "# Posterior probability that Pod count on microhabitat over time is > Red Algae (reference microhabitat)\n",
        "pp_Hydrallmania_Time_positive <- mean(draws[[\"b_MicrohabitatHydrallmania:Time\"]] > 0)\n",
        "pp_Sertulariidae_Time_positive <- mean(draws[[\"b_MicrohabitatSertulariidae:Time\"]] > 0)\n",
        "pp_Sand_Time_positive <- mean(draws[[\"b_MicrohabitatSand:Time\"]] > 0)\n",
        "\n",
        "# Posterior probability that Pod count on microhabitat over time is < Red Algae (reference microhabitat)\n",
        "pp_Hydrallmania_Time_negative <- mean(draws[[\"b_MicrohabitatHydrallmania:Time\"]] < 0)\n",
        "pp_Sertulariidae_Time_negative <- mean(draws[[\"b_MicrohabitatSertulariidae:Time\"]] < 0)\n",
        "pp_Sand_Time_negative <- mean(draws[[\"b_MicrohabitatSand:Time\"]] < 0)\n",
        "\n",
        "\n",
        "# Create a summary table\n",
        "pp_summary_expv2_microhabitat_time <- data.frame(\n",
        "  Hypothesis = c(\n",
        "    \"P(Hydrallmania:Time effect > 0)\",\n",
        "    \"P(Sand:Time effect > 0)\",\n",
        "    \"P(Sertulariidae:Time effect > 0)\",\n",
        "    \"P(Hydrallmania:Time effect < 0)\",\n",
        "    \"P(Sand:Time effect < 0)\",\n",
        "    \"P(Sertulariidae:Time effect < 0)\"\n",
        "  ),\n",
        "  PosteriorProbability = c(\n",
        "    pp_Hydrallmania_Time_positive,\n",
        "    pp_Sand_Time_positive,\n",
        "    pp_Sertulariidae_Time_positive,\n",
        "    pp_Hydrallmania_Time_negative,\n",
        "    pp_Sand_Time_negative,\n",
        "    pp_Sertulariidae_Time_negative\n",
        "  )\n",
        ")\n",
        "\n",
        "# Save table\n",
        "write.table(pp_summary_expv2_microhabitat_time, \"C:/Users/bmc82/Documents/UF/PhD_Projects/DISSERTATION_MANUSCRIPT/Chapter_3/chapter3_data_analysis/data/tables/table_postprob_expv2_microhabitat_time.csv\", sep = \",\", row.names = TRUE, col.names = TRUE)\n"
      ]
    },
    {
      "cell_type": "code",
      "execution_count": null,
      "metadata": {
        "tags": [
          "hide-input"
        ],
        "vscode": {
          "languageId": "r"
        }
      },
      "outputs": [],
      "source": [
        "# Generate HTML table\n",
        "html_table <- minimal_html_table(pp_summary_expv2_microhabitat_time, caption = \"Posterior probabilities for Microhabitat*Time Effect\")\n",
        "\n",
        "# Display it as HTML\n",
        "IRdisplay::display_html(html_table)"
      ]
    },
    {
      "cell_type": "markdown",
      "metadata": {},
      "source": [
        "\n",
        "---\n",
        "\n",
        "### 8. Summarize results\n",
        "On average, there are more individuals on Hydrallmania than Red Algae, and fewer individuals on Setularidae than Red Algae. They definitely prefer any branching habitat over Sand. However, Time was not a significant variable affecting Count for any substrate except Sand, meaning they were not significantly moving between branching habitats once they were on them. Thus, their preference for microhabitat was likely driven by the first microhabitat that they landed on at the start of the experiment, or the first microhabitat they crawled onto off of the Sand. This might be a product of experimental setup (i.e., poor acclimation to chambers), or a natural clinging behavior.\n",
        "\n",
        "We did not have enough material to test hydroids with and without bryozoans, unfortunately.\n",
        "\n",
        "This experiment likely does not contribute much useful information, so maybe should be excluded from the final results?\n",
        "\n",
        "#### **Make final figures**\n",
        "\n",
        "Generate tidy figures for the Results section of our report/paper. We will limit the results to showing only Microhabitat categories and add the intercept category at 0 for comparison."
      ]
    },
    {
      "cell_type": "code",
      "execution_count": null,
      "metadata": {
        "tags": [
          "hide-cell"
        ],
        "vscode": {
          "languageId": "r"
        }
      },
      "outputs": [],
      "source": [
        "\n",
        "# Define the predictor list\n",
        "predictors_exp <- list(\n",
        "  list(\n",
        "    name = \"Microhabitat\",\n",
        "    model = \"m2\",\n",
        "    baseline = tibble(parameter = \"Red_Algae\", mean = 0),\n",
        "    order = c(\"b_MicrohabitatSand\", \"Red_Algae\", \"b_MicrohabitatSertulariidae\", \"b_MicrohabitatHydrallmania\"),\n",
        "    labels = c(\n",
        "      \"b_MicrohabitatSand\" = \"Sand\",\n",
        "      \"Red_Algae\" = \"Red algae\",\n",
        "      \"b_MicrohabitatSertulariidae\" = \"Sertulariidae\",\n",
        "      \"b_MicrohabitatHydrallmania\" = \"Hydrallmania\"\n",
        "    ),\n",
        "    regex_pars = c(\n",
        "      \"^b_MicrohabitatSand$\",\n",
        "      \"^b_MicrohabitatSertulariidae$\",\n",
        "      \"^b_MicrohabitatHydrallmania$\"\n",
        "    )\n",
        "  ),\n",
        "  list(\n",
        "    name = \"Time\",\n",
        "    model = \"m2\",\n",
        "    baseline = NULL,\n",
        "    order = c(\"b_Time\"),\n",
        "    labels = c(\"b_Time\" = \"Time\"),\n",
        "    regex_pars = c(\"^b_Time$\")\n",
        "  )\n",
        ")\n",
        "\n",
        "# Posterior samples by model group\n",
        "posterior_samples_all <- list(\n",
        "  Count = posterior_samples_expv1,\n",
        "  Count_interaction = posterior_samples_expv2\n",
        ")\n",
        "\n",
        "# Extraction function (updated for optional baseline)\n",
        "extract_effects <- function(posterior_df, predictor_cfg, model_label) {\n",
        "  matched_cols <- posterior_df %>%\n",
        "    dplyr::select(matches(paste(predictor_cfg$regex_pars, collapse = \"|\"))) %>%\n",
        "    colnames()\n",
        "\n",
        "  if (length(matched_cols) == 0) {\n",
        "    stop(paste(\"No columns matched for predictor:\", predictor_cfg$name))\n",
        "  }\n",
        "\n",
        "  draws <- posterior_df %>%\n",
        "    dplyr::select(all_of(matched_cols)) %>%\n",
        "    pivot_longer(cols = everything(), names_to = \"parameter\", values_to = \"value\") %>%\n",
        "    mutate(\n",
        "      label = predictor_cfg$labels[parameter],\n",
        "      predictor = predictor_cfg$name,\n",
        "      group = model_label\n",
        "    )\n",
        "\n",
        "  if (!is.null(predictor_cfg$baseline)) {\n",
        "    baseline <- predictor_cfg$baseline %>%\n",
        "      mutate(\n",
        "        label = predictor_cfg$labels[parameter],\n",
        "        predictor = predictor_cfg$name,\n",
        "        group = model_label,\n",
        "        value = mean\n",
        "      )\n",
        "    out <- bind_rows(draws, baseline)\n",
        "  } else {\n",
        "    out <- draws\n",
        "  }\n",
        "\n",
        "  return(out)\n",
        "}\n",
        "\n",
        "# Build combined plot data\n",
        "plot_data_exp <- map_dfr(\n",
        "  names(posterior_samples_all),\n",
        "  function(model_label) {\n",
        "    map_dfr(\n",
        "      predictors_exp,\n",
        "      function(predictor_cfg) {\n",
        "        extract_effects(\n",
        "          posterior_df = posterior_samples_all[[model_label]],\n",
        "          predictor_cfg = predictor_cfg,\n",
        "          model_label = model_label\n",
        "        )\n",
        "      }\n",
        "    )\n",
        "  }\n",
        ")\n",
        "\n",
        "# Relabel models for display\n",
        "plot_data_exp$group <- factor(\n",
        "  plot_data_exp$group,\n",
        "  levels = c(\"Count\", \"Count_interaction\"),\n",
        "  labels = c(\"Additive model\", \"Interaction model\")\n",
        ")\n",
        "\n",
        "# Set y-axis label order (top to bottom on the plot)\n",
        "label_order_exp <- c(\"Sand\", \"Red algae\", \"Sertulariidae\", \"Hydrallmania\", \"Time\")\n",
        "plot_data_exp$label <- factor(plot_data_exp$label, levels = label_order_exp)\n",
        "\n",
        "# Final plot\n",
        "plot_posteriors_expv1_expv2 <- ggplot(\n",
        "  plot_data_exp, \n",
        "  aes(x = value, y = label, fill = predictor, color = predictor)\n",
        ") +\n",
        "  stat_halfeye(\n",
        "    .width = c(0.85, 0.95),\n",
        "    slab_alpha = 0.4,\n",
        "    interval_size_range = c(0.75, 0),\n",
        "    normalize = \"groups\",\n",
        "    slab_linewidth = 0.6,  # ✅ makes interval bar visible and colored\n",
        "    point_size = 1.25\n",
        "  ) +\n",
        "  geom_point(\n",
        "    data = filter(plot_data_exp, !is.na(value) & !is.na(mean)),\n",
        "    aes(x = mean),\n",
        "    inherit.aes = TRUE,\n",
        "    shape = 21,\n",
        "    size = 1,\n",
        "    stroke = 0.3,\n",
        "    fill = \"white\"  # ✅ white center with colored border\n",
        "  ) +\n",
        "  geom_vline(xintercept = 0, size = 0.6, linetype = 3, color = \"red\") +\n",
        "  facet_wrap(~ group, ncol = 2, labeller = label_value) +\n",
        "  scale_fill_manual(\n",
        "    values = c(\n",
        "      \"Microhabitat\" = \"forestgreen\",\n",
        "      \"Time\" = \"darkgrey\"\n",
        "    )\n",
        "  ) +\n",
        "  scale_color_manual(\n",
        "    values = c(\n",
        "      \"Microhabitat\" = \"forestgreen\",\n",
        "      \"Time\" = \"darkgrey\"\n",
        "    )\n",
        "  ) +\n",
        "  labs(\n",
        "    x = \"Effect size (logit scale)\",\n",
        "    y = NULL\n",
        "  ) +\n",
        "  theme_bw(base_size = 8) +\n",
        "  theme(\n",
        "    strip.text = element_text(face = \"bold\", size = 10),\n",
        "    axis.text.y = element_text(size = 8),\n",
        "    panel.spacing = unit(0.5, \"lines\"),\n",
        "    panel.grid.major.x = element_blank(),\n",
        "    panel.grid.minor.x = element_blank(),\n",
        "    legend.position = \"none\"\n",
        "  )\n",
        "\n",
        "\n",
        "\n",
        "# Save plot\n",
        "ggsave(\n",
        "  \"C:/Users/bmc82/Documents/UF/PhD_Projects/DISSERTATION_MANUSCRIPT/Chapter_3/chapter3_data_analysis/images/final_plot_posteriors_expv1_expv2.png\",\n",
        "  plot = plot_posteriors_expv1_expv2,\n",
        "  width = 7.5, height = 4.5, units = \"in\", dpi = 300\n",
        ")\n"
      ]
    },
    {
      "cell_type": "code",
      "execution_count": null,
      "metadata": {
        "tags": [
          "hide-input"
        ],
        "vscode": {
          "languageId": "r"
        }
      },
      "outputs": [],
      "source": [
        "# Convert images to base64\n",
        "final_plot_posteriors_expv1_expv2 <- knitr::image_uri(\"C:/Users/bmc82/Documents/UF/PhD_Projects/DISSERTATION_MANUSCRIPT/Chapter_3/chapter3_data_analysis/images/final_plot_posteriors_expv1_expv2.png\")\n",
        "\n",
        "\n",
        "# Create the HTML \n",
        "html_posteriors_final <- paste0(\"\n",
        "  <style>\n",
        "    .image-row {\n",
        "      display: flex;\n",
        "      gap: 20px;\n",
        "      justify-content: center;\n",
        "      align-items: flex-start;\n",
        "    }\n",
        "    .image-row img {\n",
        "      max-width: 100%;\n",
        "      height: auto;\n",
        "      border: 1px solid #ccc;\n",
        "    }\n",
        "  </style>\n",
        "<div class='image-row'>\n",
        "  <img src='\", final_plot_posteriors_expv1_expv2, \"' alt='Final Posterior Plot'>\n",
        "</div>\n",
        "\")\n",
        "\n",
        "# Display the HTML\n",
        "IRdisplay::display_html(html_posteriors_final)"
      ]
    }
  ],
  "metadata": {
    "kernelspec": {
      "display_name": "R",
      "language": "R",
      "name": "ir",
      "path": "C:\\Users\\bmc82\\AppData\\Roaming\\Python\\share\\jupyter\\kernels\\python3"
    },
    "language_info": {
      "codemirror_mode": "r",
      "file_extension": ".r",
      "mimetype": "text/x-r-source",
      "name": "R",
      "pygments_lexer": "r",
      "version": "4.4.2"
    }
  },
  "nbformat": 4,
  "nbformat_minor": 4
}
