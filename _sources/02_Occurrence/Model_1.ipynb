{
  "cells": [
    {
      "cell_type": "code",
      "execution_count": null,
      "metadata": {
        "tags": [
          "hide-cell"
        ],
        "vscode": {
          "languageId": "r"
        }
      },
      "outputs": [],
      "source": [
        "# Source the package setup script\n",
        "source(\"C:/Users/bmc82/Documents/UF/PhD_Projects/DISSERTATION_MANUSCRIPT/Chapter_3/chapter3_data_analysis/scripts/00_setup_packages.R\")\n",
        "\n",
        "# Source the graphing functions\n",
        "source(\"C:/Users/bmc82/Documents/UF/PhD_Projects/DISSERTATION_MANUSCRIPT/Chapter_3/chapter3_data_analysis/scripts/01_graphing_functions.R\", local = knitr:::knit_global())"
      ]
    },
    {
      "cell_type": "markdown",
      "metadata": {},
      "source": [
        "# Model 1\n",
        "\n",
        "---\n",
        "\n",
        "## Question\n",
        "\n",
        "How do environmental factors (**microhabitat**, **nudibranch presence**) affect P. cristatus occurrence across individuals, sexes, and morphs?\n",
        "\n",
        "---\n",
        "\n",
        "## Objective\n",
        "\n",
        "Test for the effect of **microhabitat type** and **aeolid nudibranch presence** on the occurrence of **pods**. \n",
        "\n",
        "---\n",
        "\n",
        "## Method\n",
        "\n",
        "### 1. Load cleaned data.\n",
        "\n",
        "We start by loading the cleaned data from the \"02_data_cleaning\" pipeline. This data has already undergone transformations and contains relevant metrics for our models.\n"
      ]
    },
    {
      "cell_type": "code",
      "execution_count": null,
      "metadata": {
        "vscode": {
          "languageId": "r"
        }
      },
      "outputs": [],
      "source": [
        "data_m1_clean <- read.csv(\"C:/Users/bmc82/Documents/UF/PhD_Projects/DISSERTATION_MANUSCRIPT/Chapter_3/chapter3_data_analysis/data/cleaned/data_m1_clean.csv\")"
      ]
    },
    {
      "cell_type": "markdown",
      "metadata": {},
      "source": [
        "\n",
        "---\n",
        "\n",
        "### 2. Prepare data for modeling.\n",
        "\n",
        "#### **Categorical predictors**\n",
        "\n",
        "For categorical and binary predictors, R automatically dummy-codes the variables. For binary variables, such as Sex (0 = Female, 1 = Male), R sets the baseline to 0 unless specified otherwise. This ensures comparisons are made relative to the baseline group.\n",
        "\n",
        "#### **Continuous predictors**\n",
        "\n",
        "We standardize continuous predictors, such as Fecundity, by centering and scaling them (dividing by two standard deviations). This improves interpretability, aligning their coefficients with those of binary predictors, as suggested by Gelman (2008).\n"
      ]
    },
    {
      "cell_type": "code",
      "execution_count": null,
      "metadata": {
        "vscode": {
          "languageId": "r"
        }
      },
      "outputs": [],
      "source": [
        "# Convert categorical variables to factors\n",
        "columns_to_convert_m1 <- c(\"Site\", \"Quadrat\", \"Microhabitat\", \"Pod\", \"Nudibranch\")\n",
        "\n",
        "data_m1_clean <- data_m1_clean %>%\n",
        "    mutate(across(all_of(columns_to_convert_m1), as.factor))\n",
        "\n",
        "# Set reference category for categorical predictors\n",
        "data_m1_clean$Microhabitat <- relevel(data_m1_clean$Microhabitat, ref = \"Red_Algae\")\n",
        "data_m1_clean$Nudibranch <- relevel(data_m1_clean$Nudibranch, ref = \"0\")\n",
        "\n",
        "\n",
        "# Convert continuous variables to numerical\n",
        "# NONE ARE CONTINUOUS"
      ]
    },
    {
      "cell_type": "markdown",
      "metadata": {},
      "source": [
        "\n",
        "---\n",
        "\n",
        "### 3. Visualize response variable distributions\n",
        "\n",
        "To understand the distributions of our response variables, we plot density curves. This helps confirm whether a Gamma distribution is appropriate for modeling, as Gamma is suited for positively skewed, continuous data.\n"
      ]
    },
    {
      "cell_type": "code",
      "execution_count": null,
      "metadata": {
        "tags": [
          "hide-cell"
        ],
        "vscode": {
          "languageId": "r"
        }
      },
      "outputs": [],
      "source": [
        "# Function to generate stacked bar plots for morph occurrence\n",
        "generate_pod_occurrence_plot <- function(\n",
        "  data, \n",
        "  variable, \n",
        "  sample_size_data, \n",
        "  color, \n",
        "  axis_title_x = TRUE, \n",
        "  axis_text_x = TRUE, \n",
        "  axis_text_y = TRUE,\n",
        "  axis_title_y = TRUE,\n",
        "  plot_title = NULL,\n",
        "  axis_title_size = 10, \n",
        "  axis_text_size = 8 \n",
        ") {\n",
        "  data %>%\n",
        "    ggplot(aes(x = Microhabitat, fill = factor(!!sym(variable)))) +\n",
        "    geom_bar(position = \"fill\") +\n",
        "    scale_fill_manual(\n",
        "      values = c(\"1\" = color, \"0\" = \"lightgrey\"),\n",
        "      labels = c(\"1\" = \"Present\", \"0\" = \"Absent\")\n",
        "    ) +\n",
        "    labs(\n",
        "      title = plot_title,\n",
        "      x = if (isTRUE(axis_title_x)) \"Microhabitat\" else NULL,\n",
        "      y = if (isTRUE(axis_title_y)) \"Proportion of Quadrats\" else NULL,\n",
        "      fill = NULL\n",
        "    ) +\n",
        "    theme_bw(base_size = 10) +\n",
        "    theme(\n",
        "      axis.title.y = if (axis_title_y) element_text(size = axis_title_size) else element_blank(),\n",
        "      axis.text.y  = if (axis_text_y) element_text(size = axis_text_size) else element_blank(),\n",
        "      axis.title.x = if (axis_title_x) element_text(size = axis_title_size) else element_blank(),\n",
        "      axis.text.x  = if (axis_text_x) element_text(size = axis_text_size, angle = 45, hjust = 1) else element_blank(),\n",
        "      legend.position = \"none\",\n",
        "      panel.grid.major = element_blank(),\n",
        "      panel.grid.minor = element_blank()\n",
        "    ) +\n",
        "    geom_text(\n",
        "      data = sample_size_data,\n",
        "      aes(x = Microhabitat, y = 1.05, label = paste(\"n =\", sample_size)),\n",
        "      vjust = 0, size = 2, inherit.aes = FALSE\n",
        "    )\n",
        "}\n",
        "\n",
        "\n",
        "# Prepare data for sample sizes\n",
        "data_m1_sample_size <- data_m1_clean %>%\n",
        "    group_by(Microhabitat) %>%\n",
        "    summarise(sample_size = n(), .groups = \"drop\")\n",
        "\n",
        "# Generate plot for pod occurrence\n",
        "plot_m1_occurrence <- generate_pod_occurrence_plot(\n",
        "    data = data_m1_clean,\n",
        "    variable = \"Pod\",\n",
        "    sample_size_data = data_m1_sample_size,\n",
        "    color = \"gray20\",\n",
        "    axis_title_x = FALSE,\n",
        "    axis_text_x = TRUE,\n",
        "    axis_title_y = TRUE,\n",
        "    axis_title_size = 10,\n",
        "    axis_text_size = 8\n",
        "    )\n",
        "\n",
        "\n",
        "ggsave(\"C:/Users/bmc82/Documents/UF/PhD_Projects/DISSERTATION_MANUSCRIPT/Chapter_3/chapter3_data_analysis/images/plot_m1_occurrence.png\", plot = plot_m1_occurrence, width = 3, height = 3, units = \"in\", dpi = 300)\n"
      ]
    },
    {
      "cell_type": "code",
      "execution_count": null,
      "metadata": {
        "tags": [
          "hide-input"
        ],
        "vscode": {
          "languageId": "r"
        }
      },
      "outputs": [],
      "source": [
        "# Convert images to base64\n",
        "plot_m1_occurrence <- knitr::image_uri(\"C:/Users/bmc82/Documents/UF/PhD_Projects/DISSERTATION_MANUSCRIPT/Chapter_3/chapter3_data_analysis/images/plot_m1_occurrence.png\")\n",
        "\n",
        "# Create the HTML \n",
        "html_occurrence <- paste0(\"\n",
        "  <div style='text-align: center; margin: 20px auto; max-width: 600px;'>\n",
        "    <img src='\", plot_m1_occurrence, \"' alt='Podocerus Occurrence Plot' style='width: 100%; height: auto; border: 1px solid #ccc;'/>\n",
        "  </div>\n",
        "\")\n",
        "\n",
        "# Display the HTML\n",
        "IRdisplay::display_html(html_occurrence)"
      ]
    },
    {
      "cell_type": "markdown",
      "metadata": {},
      "source": [
        "\n",
        "---\n",
        "\n",
        "### 4. Justification for GLMs and Bayesian methods\n",
        "\n",
        "#### **Why GLMs?**\n",
        "\n",
        "Generalized Linear Models (GLMs) are used because our response variable is binary. Linear models assume a continuous range of values for the response variable, which is not suitable for binary outcomes. GLMs address this limitation by introducing a link function that transforms the linear predictor into a form suitable for the response variable's distribution.\n",
        "\n",
        "---\n",
        "\n",
        "#### **Why Bayesian methods?**\n",
        "\n",
        "Bayesian GLMs were chosen over frequentist approaches because:\n",
        "\n",
        "-   **Sparse data**: Bayesian methods handle sparse datasets more robustly.\n",
        "\n",
        "-   **Priors**: They allow us to incorporate prior knowledge, improving model performance.\n",
        "\n",
        "-   **Posterior distributions**: Bayesian models provide posterior distributions, offering a full view of parameter uncertainty.\n",
        "\n",
        "---\n",
        "\n",
        "### 5. Define priors\n",
        "\n",
        "#### **What are priors?**\n",
        "\n",
        "In Bayesian statistics, priors represent our beliefs about parameter values before analyzing the data. These beliefs are mathematically expressed as probability distributions. Priors guide the model, especially when data are sparse or when the signal-to-noise ratio is low.\n",
        "\n",
        "---\n",
        "\n",
        "#### **Why priors matter:**\n",
        "\n",
        "-   **Prevent overfitting**: Priors discourage extreme parameter estimates unless strongly supported by the data.\n",
        "\n",
        "-   **Balance restrictiveness and flexibility**: Weakly informative priors let the data dominate while providing reasonable bounds.\n",
        "\n",
        "-   **Leverage existing knowledge**: Informative priors incorporate previous research or domain expertise, improving accuracy in well-studied systems.\n",
        "\n",
        "---\n",
        "\n",
        "#### **How priors work in this analysis:**\n",
        "We combine the priors (representing initial beliefs) with the likelihood of the observed data to compute posterior distributions, which reflect updated beliefs after observing the data.\n",
        "\n",
        "The general formula is:\n",
        "\n",
        "$$\n",
        "\\begin{aligned}\n",
        "\\text{Posterior } \\alpha \\text{ Likelihood} * \\text{Prior}\n",
        "\\end{aligned}\n",
        "$$\n",
        "\n",
        "---\n",
        "\n",
        "#### **Model family and formula**\n",
        "\n",
        "The response variable (Pod presence) is binary (1 = present, 0 = absent). We model this variable using a Bernoulli distribution with a logit link function:\n",
        "$$\n",
        "y_{i} \\sim \\text{Bernoulli}(p_{i}) \\\\\n",
        "$$\n",
        "\n",
        "The probability of occurrence $p_i$ is modeled as:\n",
        "\n",
        "$$\n",
        "\\text{log-Odds} = \\text{logit}(p_{i}) = \\beta_{0} + \\beta x_{i} \\\\\n",
        "$$\n",
        "\n",
        "Where:\n",
        "\n",
        "-   **$y_{i}$**: Response variable for observation $i$\n",
        "\n",
        "-   **$p_{i}$**: Probability of *P. cristatus* presence for $i$ (on the log scale)\n",
        "\n",
        "-   **$\\beta_{0}$**: Intercept, mean value of $\\text{logit}(p)$ (i.e., log-Odds) when predictors are at baseline\n",
        "\n",
        "-   **$\\beta$**: Coefficient/slope for predictor $x_{i}$, representing the effect of $x_{i}$ on $\\text{logit}(p_i)$ (i.e., log-Odds).\n",
        "\n",
        "---\n",
        "\n",
        "#### Chosen priors and rationale\n",
        "\n",
        "**Intercept (\\beta_{0})**: The intercept (\\beta_{0}) reflects the baseline log-odds of *P. cristatus* occurrence in the reference conditions (Red Algae with no nudibranchs). Preliminary observations from SCUBA suggest a baseline probability of approximately 50% for P. cristatus presence, translating to:\n",
        "\n",
        "$$\n",
        "\\begin{aligned}\n",
        "\\text{logit}(0.50) = log(\\frac{0.50}{1-0.50}) = 0\n",
        "\\end{aligned}\n",
        "$$\n",
        "\n",
        "We set a weakly informative prior:\n",
        "$$\n",
        "\\begin{aligned}\n",
        "\\beta_{0} \\approx N(0,1)\n",
        "\\end{aligned}\n",
        "$$\n",
        "\n",
        "This prior allows for moderate variability in log-odds (95% of values between -2 and 2), corresponding to probabilities ranging from 12% to 88% on the original scale:\n",
        "\n",
        "$$\n",
        "\\begin{aligned}\n",
        "p = \\frac{e^{\\text{logit}(p)}}{1 + e^{\\text{logit}(p)}}\n",
        "\\end{aligned}\n",
        "$$\n",
        "\n",
        "For $\\text{logit}(p)=0$:\n",
        "$$\n",
        "\\begin{aligned}\n",
        "p = \\frac{e^{0}}{1 + e^{0}} = \\frac{1}{1+1} = 0.50\n",
        "\\end{aligned}\n",
        "$$\n",
        "\n",
        "For $\\text{logit}(p)=-2$:\n",
        "$$\n",
        "\\begin{aligned}\n",
        "p = \\frac{e^{-2}}{1 + e^{-2}} = \\frac{0.135}{1+0.135} = 0.12\n",
        "\\end{aligned}\n",
        "$$\n",
        "\n",
        "For $\\text{logit}(p)=2$:\n",
        "$$\n",
        "\\begin{aligned}\n",
        "p = \\frac{e^{2}}{1 + e^{2}} = \\frac{7.39}{1+7.39} = 0.88\n",
        "\\end{aligned}\n",
        "$$\n",
        "\n",
        "---\n",
        "\n",
        "**Slope ($\\beta$)**: The slope represents the change in log-odds of occurrence for a one-unit increase in the predictor. On the odds scale, the slope is interpreted as a multiplicative scaling factor:\n",
        "\n",
        "$$\n",
        "\\begin{aligned}\n",
        "\\text{Odds}_{x+1} = \\text{Odds}_{x} * e^{\\beta}\n",
        "\\end{aligned}\n",
        "$$\n",
        "\n",
        "For example:\n",
        "\n",
        "-   If $\\beta = 0.1$, a one-unit increase in the predictor scales the Odds response by $e^{0.1} \\approx 1.10$ (a 10% increase).\n",
        "\n",
        "-   If $\\beta = -0.1$, a one-unit increase scales the Odds response by $e^{-0.1} \\approx 0.91$ (a 9% decrease).\n",
        "\n",
        "We don't know how our predictors will affect the response, so we use a weakly informative prior:\n",
        "\n",
        "$$\n",
        "\\begin{aligned}\n",
        "\\beta \\approx N(0,0.5)\n",
        "\\end{aligned}\n",
        "$$\n",
        "\n",
        "This prior assumes no effect of the predictor on average ($e^{0} = 1$, and allows moderate positive or negative effects, spanning approximately $[-1, 1]$ on the log scale ($e^{-1} \\approx 0.37$ to $e^{1} \\approx 2.72$ on the original scale). So the Odds of occurrence will not exceed a minimum of $\\text{Odds} * 0.37$ and maximum of $\\text{Odds} * 2.72$.\n",
        "\n",
        "---\n",
        "\n",
        "**Random effects ($\\sigma$)**: Random effects account for variability between groups that we are not explicitly testing. In this model, sampling site will be the random effect. This is because we have repeated measures within the same Sites. Measurements within the same Site are likely to be correlated due to shared environmental factors, spatial proximity, or other unobserved factors specific to the site. Including random effects in our model accounts for this. To capture moderate variability, we assign:\n",
        "\n",
        "$$\n",
        "\\begin{aligned}\n",
        "\\approx N(0,0.5)\n",
        "\\end{aligned}\n",
        "$$\n",
        "\n",
        "This ensures flexibility without overfitting.\n"
      ]
    },
    {
      "cell_type": "markdown",
      "metadata": {},
      "source": [
        "\n",
        "---\n",
        "\n",
        "#### **Visualizing priors**\n",
        "\n",
        "To validate these priors, we run models sampling only from the priors (sample_prior = \"only\") and inspect their outputs to ensure they align with our expectations.\n"
      ]
    },
    {
      "cell_type": "markdown",
      "metadata": {},
      "source": [
        ">**Note:** We will run these models in RStudio to be consistent because the rstan package sometimes does not like Jupyter. The models were saved in RStudio and loaded below. We left the code chunks as comments for reference."
      ]
    },
    {
      "cell_type": "code",
      "execution_count": null,
      "metadata": {
        "tags": [
          "hide-output"
        ],
        "vscode": {
          "languageId": "r"
        }
      },
      "outputs": [],
      "source": [
        "\n",
        "# # Set seed for reproducibility\n",
        "# set.seed(5678)\n",
        "# m1_priors <- brm(\n",
        "#     family = bernoulli(link = \"logit\"),\n",
        "#     formula = Pod ~ 1 + Microhabitat + Nudibranch + (1 | Site),\n",
        "#     data = data_m1_clean,\n",
        "#     prior = c(\n",
        "#         prior(normal(0, 1), class = \"Intercept\"),\n",
        "#         prior(normal(0, 0.5), class = \"b\"),\n",
        "#         prior(normal(0, 0.5), class = \"sd\")\n",
        "#     ),\n",
        "#     sample_prior = \"only\",\n",
        "#     save_pars = save_pars(all = TRUE),\n",
        "#     control = list(adapt_delta = 0.99, max_treedepth = 12),\n",
        "#     iter = 15000,\n",
        "#     warmup = 5000,\n",
        "#     chains = 2,\n",
        "#     cores = parallel::detectCores(logical=FALSE),\n",
        "#     backend = \"rstan\"\n",
        "# )\n",
        "# saveRDS(m1_priors, file = \"C:/Users/bmc82/Documents/UF/PhD_Projects/DISSERTATION_MANUSCRIPT/Chapter_3/chapter3_data_analysis/data/models/m1_priors.rds\")"
      ]
    },
    {
      "cell_type": "code",
      "execution_count": null,
      "metadata": {
        "tags": [
          "hide-cell"
        ],
        "vscode": {
          "languageId": "r"
        }
      },
      "outputs": [],
      "source": [
        "# Load models\n",
        "m1_priors <- readRDS(\"C:/Users/bmc82/Documents/UF/PhD_Projects/DISSERTATION_MANUSCRIPT/Chapter_3/chapter3_data_analysis/data/models/m1_priors.rds\")\n",
        "\n",
        "# Extract prior model results.\n",
        "prior_samples_m1 <- as_draws_df(m1_priors)\n",
        "prior_samples_m1 <- as.data.frame(prior_samples_m1)"
      ]
    },
    {
      "cell_type": "code",
      "execution_count": null,
      "metadata": {
        "tags": [
          "hide-cell"
        ],
        "vscode": {
          "languageId": "r"
        }
      },
      "outputs": [],
      "source": [
        "# List of datasets and labels\n",
        "prior_samples <- list(\n",
        "    Pod = prior_samples_m1\n",
        ")\n",
        "\n",
        "#Custom labels\n",
        "custom_labels_priors <- c(\n",
        "  \"b_MicrohabitatOther_Hydroids\" = \"Other Hydroids\",\n",
        "  \"b_MicrohabitatSertulariidae\" = \"Sertulariidae\",\n",
        "  \"b_MicrohabitatHydrallmania\" = \"Hydrallmania\",\n",
        "  \"b_MicrohabitatLafoea\" = \"Lafoea\",\n",
        "  \"b_MicrohabitatSertulariidae_Bryozoa\" = \"Sertulariidae with Bryozoa\",\n",
        "  \"b_Nudibranch1\" = \"Nudibranch\"\n",
        ")\n",
        "\n",
        "custom_labels_priors_intercept <- c(\n",
        "  \"b_Intercept\" = \"Intercept\"\n",
        ")\n",
        "\n",
        "\n",
        "# Generate plots for predictors\n",
        "prior_plots <- lapply(\n",
        "    names(prior_samples),\n",
        "    function(label) {\n",
        "        generate_posterior_plot(\n",
        "            prior_samples[[label]],\n",
        "            regex_pars = c(\n",
        "                \"b_MicrohabitatOther_Hydroids\",\n",
        "                \"b_MicrohabitatSertulariidae\",\n",
        "                \"b_MicrohabitatHydrallmania\",\n",
        "                \"b_MicrohabitatLafoea\",\n",
        "                \"b_MicrohabitatSertulariidae_Bryozoa\",\n",
        "                \"b_Nudibranch1\"\n",
        "            ),\n",
        "            x_range = c(-5, 5),\n",
        "            custom_labels = custom_labels_priors,\n",
        "            axis_title_y = label %in% c(\"Pod\")\n",
        "        )\n",
        "    }\n",
        ")\n",
        "names(prior_plots) <- names(prior_samples)\n",
        "\n",
        "\n",
        "# Generate plot for intercept\n",
        "prior_plots_intercept <- lapply(\n",
        "    names(prior_samples),\n",
        "    function(label) {\n",
        "        generate_posterior_plot(\n",
        "            prior_samples[[label]],\n",
        "            regex_pars = c(\n",
        "                \"b_Intercept\"\n",
        "            ),\n",
        "            x_range = c(-10, 10),\n",
        "            custom_labels = custom_labels_priors_intercept,\n",
        "            axis_title_y = label %in% c(\"Pod\")\n",
        "        )\n",
        "    }\n",
        ")\n",
        "names(prior_plots_intercept) <- names(prior_samples)\n",
        "\n",
        "\n",
        "\n",
        "# Add grey bars with labels for each plot\n",
        "prior_plots_with_bars <- mapply(\n",
        "    function(plot, label) {\n",
        "        patchwork::wrap_elements(create_top_bar(label)) / plot +\n",
        "            patchwork::plot_layout(heights = c(0.2, 1)) # Adjust heights to reduce spacing\n",
        "    },\n",
        "    prior_plots,\n",
        "    names(prior_plots),\n",
        "    SIMPLIFY = FALSE\n",
        ")\n",
        "\n",
        "prior_plots_intercept_with_bars <- mapply(\n",
        "    function(plot, label) {\n",
        "        patchwork::wrap_elements(create_top_bar(label)) / plot +\n",
        "            patchwork::plot_layout(heights = c(0.2, 1)) # Adjust heights to reduce spacing\n",
        "    },\n",
        "    prior_plots_intercept,\n",
        "    names(prior_plots_intercept),\n",
        "    SIMPLIFY = FALSE\n",
        ")\n",
        "\n",
        "\n",
        "# Combine plots into a 2x3 grid (we don't really need to do this here because there is only 1 response variable). But we are being consistent.\n",
        "plot_priors_m1 <- patchwork::wrap_plots(\n",
        "    prior_plots_with_bars[c(\"Pod\")],\n",
        "    ncol = 1\n",
        ") +\n",
        "    patchwork::plot_layout(guides = \"collect\")\n",
        "\n",
        "plot_priors_intercept_m1 <- patchwork::wrap_plots(\n",
        "    prior_plots_intercept_with_bars[c(\"Pod\")],\n",
        "    ncol = 1\n",
        ") +\n",
        "    patchwork::plot_layout(guides = \"collect\")\n",
        "\n",
        "\n",
        "# Add a unified x-axis label\n",
        "plot_priors_m1 <- plot_priors_m1 +\n",
        "    patchwork::plot_annotation(\n",
        "        caption = \"Expected value of the odds response (logit scale)\",\n",
        "        theme = theme(plot.caption = element_text(hjust = 0.65, size = 10))\n",
        "    )\n",
        "\n",
        "plot_priors_intercept_m1 <- plot_priors_intercept_m1 +\n",
        "    patchwork::plot_annotation(\n",
        "        caption = \"Expected value of the odds response (logit scale)\",\n",
        "        theme = theme(plot.caption = element_text(hjust = 0.65, size = 10))\n",
        "    )\n",
        "\n",
        "\n",
        "\n",
        "ggsave(\"C:/Users/bmc82/Documents/UF/PhD_Projects/DISSERTATION_MANUSCRIPT/Chapter_3/chapter3_data_analysis/images/plot_priors_m1.png\", plot = plot_priors_m1, width = 4.5, height = 4.5, units = \"in\", dpi = 300)\n",
        "\n",
        "ggsave(\"C:/Users/bmc82/Documents/UF/PhD_Projects/DISSERTATION_MANUSCRIPT/Chapter_3/chapter3_data_analysis/images/plot_priors_intercept_m1.png\", plot = plot_priors_intercept_m1, width = 4.5, height = 4.5, units = \"in\", dpi = 300)\n"
      ]
    },
    {
      "cell_type": "code",
      "execution_count": null,
      "metadata": {
        "tags": [
          "hide-input"
        ],
        "vscode": {
          "languageId": "r"
        }
      },
      "outputs": [],
      "source": [
        "# Convert images to base64 (assuming these return base64 data URIs)\n",
        "plot_priors_m1 <- knitr::image_uri(\"C:/Users/bmc82/Documents/UF/PhD_Projects/DISSERTATION_MANUSCRIPT/Chapter_3/chapter3_data_analysis/images/plot_priors_m1.png\")\n",
        "plot_priors_intercept_m1 <- knitr::image_uri(\"C:/Users/bmc82/Documents/UF/PhD_Projects/DISSERTATION_MANUSCRIPT/Chapter_3/chapter3_data_analysis/images/plot_priors_intercept_m1.png\")\n",
        "\n",
        "# Create the HTML \n",
        "html_priors <- paste0(\"\n",
        "  <style>\n",
        "    .image-container {\n",
        "      display: flex;\n",
        "      justify-content: space-between;\n",
        "      align-items: flex-start;\n",
        "      flex-wrap: wrap;\n",
        "      gap: 20px;\n",
        "      max-width: 100%;\n",
        "    }\n",
        "\n",
        "    .image-container img {\n",
        "      flex: 1 1 48%;\n",
        "      max-width: 48%;\n",
        "      height: auto;\n",
        "      border: 1px solid #ccc;\n",
        "    }\n",
        "\n",
        "    @media screen and (max-width: 800px) {\n",
        "      .image-container img {\n",
        "        max-width: 100%;\n",
        "        flex: 1 1 100%;\n",
        "      }\n",
        "    }\n",
        "  </style>\n",
        "\n",
        "  <div class='image-container'>\n",
        "    <img src='\", plot_priors_m1, \"' alt='Prior Plot'>\n",
        "    <img src='\", plot_priors_intercept_m1, \"' alt='Prior Intercept Plot'>\n",
        "  </div>\n",
        "\")\n",
        "\n",
        "# Display the HTML\n",
        "IRdisplay::display_html(html_priors)"
      ]
    },
    {
      "cell_type": "markdown",
      "metadata": {},
      "source": [
        "\n",
        "---\n",
        "\n",
        "### 6. Run final models\n",
        "\n",
        "Now that we have finalized the model parameters, we fit models using the actual data and compare them to null models to assess the significance of predictors.\n"
      ]
    },
    {
      "cell_type": "markdown",
      "metadata": {},
      "source": [
        ">**Note:** We will run these models in RStudio to be consistent because the rstan package sometimes does not like Jupyter. The models were saved in RStudio and loaded below. We left the code chunks as comments for reference."
      ]
    },
    {
      "cell_type": "code",
      "execution_count": null,
      "metadata": {
        "tags": [
          "hide-output"
        ],
        "vscode": {
          "languageId": "r"
        }
      },
      "outputs": [],
      "source": [
        "\n",
        "# # Set seed for reproducibility\n",
        "# set.seed(5678)\n",
        "# # null model (for comparison)\n",
        "# m1v0 <- brm(\n",
        "#     family = bernoulli(link = \"logit\"),\n",
        "#     formula = Pod ~ 1 + (1 | Site),\n",
        "#     data = data_m1_clean,\n",
        "#     prior = c(\n",
        "#         prior(normal(0, 1), class = \"Intercept\"),\n",
        "#         prior(normal(0, 0.5), class = \"sd\")\n",
        "#     ),\n",
        "#     sample_prior = TRUE,\n",
        "#     save_pars = save_pars(all = TRUE),\n",
        "#     control = list(adapt_delta = 0.99, max_treedepth = 12),\n",
        "#     iter = 15000,\n",
        "#     warmup = 5000,\n",
        "#     chains = 2,\n",
        "#     cores = parallel::detectCores(logical=FALSE),\n",
        "#     backend = \"rstan\"\n",
        "# )\n",
        "# saveRDS(m1v0, file = \"C:/Users/bmc82/Documents/UF/PhD_Projects/DISSERTATION_MANUSCRIPT/Chapter_3/chapter3_data_analysis/data/models/m1v0.rds\")\n",
        "\n",
        "# # Set seed for reproducibility\n",
        "# set.seed(5678)\n",
        "# # Model with no interaction effects\n",
        "# m1v1 <- brm(\n",
        "#     family = bernoulli(link = \"logit\"),\n",
        "#     formula = Pod ~ 1 + Microhabitat + Nudibranch + (1 | Site),\n",
        "#     data = data_m1_clean,\n",
        "#     prior = c(\n",
        "#         prior(normal(0, 1), class = \"Intercept\"),\n",
        "#         prior(normal(0, 0.5), class = \"b\"),\n",
        "#         prior(normal(0, 0.5), class = \"sd\")\n",
        "#     ),\n",
        "#     sample_prior = TRUE,\n",
        "#     save_pars = save_pars(all = TRUE),\n",
        "#     control = list(adapt_delta = 0.99, max_treedepth = 12),\n",
        "#     iter = 15000,\n",
        "#     warmup = 5000,\n",
        "#     chains = 2,\n",
        "#     cores = parallel::detectCores(logical=FALSE),\n",
        "#     backend = \"rstan\"\n",
        "# )\n",
        "# saveRDS(m1v1, file = \"C:/Users/bmc82/Documents/UF/PhD_Projects/DISSERTATION_MANUSCRIPT/Chapter_3/chapter3_data_analysis/data/models/m1v1.rds\")\n",
        "\n",
        "# # Set seed for reproducibility\n",
        "# set.seed(5678)\n",
        "# # Model with interaction effects\n",
        "# m1v2 <- brm(\n",
        "#     family = bernoulli(link = \"logit\"),\n",
        "#     formula = Pod ~ 1 + Microhabitat * Nudibranch + (1 | Site),\n",
        "#     data = data_m1_clean,\n",
        "#     prior = c(\n",
        "#         prior(normal(0, 1), class = \"Intercept\"),\n",
        "#         prior(normal(0, 0.5), class = \"b\"),\n",
        "#         prior(normal(0, 0.5), class = \"sd\")\n",
        "#     ),\n",
        "#     sample_prior = TRUE,\n",
        "#     save_pars = save_pars(all = TRUE),\n",
        "#     control = list(adapt_delta = 0.99, max_treedepth = 12),\n",
        "#     iter = 15000,\n",
        "#     warmup = 5000,\n",
        "#     chains = 2,\n",
        "#     cores = parallel::detectCores(logical=FALSE),\n",
        "#     backend = \"rstan\"\n",
        "# )\n",
        "# saveRDS(m1v2, file = \"C:/Users/bmc82/Documents/UF/PhD_Projects/DISSERTATION_MANUSCRIPT/Chapter_3/chapter3_data_analysis/data/models/m1v2.rds\")\n"
      ]
    },
    {
      "cell_type": "markdown",
      "metadata": {},
      "source": [
        "#### **Model comparison**\n",
        "\n",
        "Make sure final model outperforms the null model. Use LOO to compare models.\n"
      ]
    },
    {
      "cell_type": "markdown",
      "metadata": {},
      "source": [
        ">**Note:** We will added loo to these models in RStudio. The models were saved in RStudio and loaded below. We left the code chunks as comments for reference."
      ]
    },
    {
      "cell_type": "code",
      "execution_count": null,
      "metadata": {
        "vscode": {
          "languageId": "r"
        }
      },
      "outputs": [],
      "source": [
        "\n",
        "# # Add LOO to models\n",
        "# m1v0 <- add_criterion(m1v0, \"loo\", moment_match = TRUE)\n",
        "# m1v1 <- add_criterion(m1v1, \"loo\", moment_match = TRUE)\n",
        "# m1v2 <- add_criterion(m1v2, \"loo\", moment_match = TRUE)\n",
        "\n",
        "# Save models with loo so you don't have to do this again\n",
        "# saveRDS(m1v0, file = \"C:/Users/bmc82/Documents/UF/PhD_Projects/DISSERTATION_MANUSCRIPT/Chapter_3/chapter3_data_analysis/data/models/m1v0.rds\")\n",
        "# saveRDS(m1v1, file = \"C:/Users/bmc82/Documents/UF/PhD_Projects/DISSERTATION_MANUSCRIPT/Chapter_3/chapter3_data_analysis/data/models/m1v1.rds\")\n",
        "# saveRDS(m1v2, file = \"C:/Users/bmc82/Documents/UF/PhD_Projects/DISSERTATION_MANUSCRIPT/Chapter_3/chapter3_data_analysis/data/models/m1v2.rds\")\n"
      ]
    },
    {
      "cell_type": "code",
      "execution_count": null,
      "metadata": {
        "tags": [
          "hide-cell"
        ],
        "vscode": {
          "languageId": "r"
        }
      },
      "outputs": [],
      "source": [
        "# Load models\n",
        "m1v0 <- readRDS(\"C:/Users/bmc82/Documents/UF/PhD_Projects/DISSERTATION_MANUSCRIPT/Chapter_3/chapter3_data_analysis/data/models/m1v0.rds\")\n",
        "m1v1 <- readRDS(\"C:/Users/bmc82/Documents/UF/PhD_Projects/DISSERTATION_MANUSCRIPT/Chapter_3/chapter3_data_analysis/data/models/m1v1.rds\")\n",
        "m1v2 <- readRDS(\"C:/Users/bmc82/Documents/UF/PhD_Projects/DISSERTATION_MANUSCRIPT/Chapter_3/chapter3_data_analysis/data/models/m1v2.rds\")\n"
      ]
    },
    {
      "cell_type": "code",
      "execution_count": null,
      "metadata": {
        "vscode": {
          "languageId": "r"
        }
      },
      "outputs": [],
      "source": [
        "\n",
        "# Compare models\n",
        "loo1 <- loo_compare(m1v0, m1v1, m1v2)"
      ]
    },
    {
      "cell_type": "code",
      "execution_count": null,
      "metadata": {
        "tags": [
          "hide-cell"
        ],
        "vscode": {
          "languageId": "r"
        }
      },
      "outputs": [],
      "source": [
        "# Convert to dataframe\n",
        "df_loo1 <- as.data.frame(loo1) %>%\n",
        "  rownames_to_column(var = \"Model\")\n",
        "\n",
        "  # Save loo as tables\n",
        "write.table(df_loo1, \"C:/Users/bmc82/Documents/UF/PhD_Projects/DISSERTATION_MANUSCRIPT/Chapter_3/chapter3_data_analysis/data/tables/table_loo_m1.csv\", sep = \",\", row.names = TRUE, col.names = TRUE)\n"
      ]
    },
    {
      "cell_type": "code",
      "execution_count": null,
      "metadata": {
        "tags": [
          "hide-input"
        ],
        "vscode": {
          "languageId": "r"
        }
      },
      "outputs": [],
      "source": [
        "# Convert each data frame to a plain HTML table string\n",
        "table_1_loo <- minimal_html_table(df_loo1, caption = \"LOO values - Probability of Pod Occurrence\")\n",
        "\n",
        "my_tabs_loo <- '\n",
        "<style>\n",
        "/* Basic container styling */\n",
        ".tabs-container {\n",
        "  width: 100%;\n",
        "  margin: 1em 0;\n",
        "}\n",
        "\n",
        "/* Hide the radio inputs (we only show their labels as tabs) */\n",
        ".tabs-container input[type=\"radio\"] {\n",
        "  display: none;\n",
        "}\n",
        "\n",
        "/* The “tab-label” styling: looks like a tab */\n",
        ".tab-label {\n",
        "  display: inline-block;\n",
        "  padding: 10px;\n",
        "  margin-right: 2px;\n",
        "  background: #eee;\n",
        "  border: 1px solid #ccc;\n",
        "  cursor: pointer;\n",
        "  border-bottom: none;\n",
        "}\n",
        "\n",
        "/* The active tab label */\n",
        ".tab-label-active {\n",
        "  background: #fff;\n",
        "}\n",
        "\n",
        "/* The panel that holds table content */\n",
        ".tab-content {\n",
        "  border: 1px solid #ccc;\n",
        "  padding: 10px;\n",
        "  display: none;\n",
        "}\n",
        "\n",
        "/* For each radio input, show its corresponding content when checked */\n",
        "#tab1_loo:checked ~ #content1_loo {\n",
        "  display: block;\n",
        "}\n",
        "\n",
        "/* Also style the label of the checked radio as “active” using the :checked + label technique */\n",
        "#tab1_loo:checked + label[for=\"tab1_loo\"] {\n",
        "  background: #fff;\n",
        "  border-bottom: none;\n",
        "}\n",
        "</style>\n",
        "\n",
        "<div class=\"tabs-container\">\n",
        "\n",
        "  <!-- 1) Tab radio + label -->\n",
        "  <input type=\"radio\" name=\"tabs_loo\" id=\"tab1_loo\" checked>\n",
        "  <label class=\"tab-label\" for=\"tab1_loo\">Table 1</label>\n",
        "\n",
        "  <!-- Content for each tab -->\n",
        "  <div class=\"tab-content\" id=\"content1_loo\">REPLACE_WITH_table_1</div>\n",
        "</div>\n",
        "'\n",
        "\n",
        "# Now do the replacements for each table\n",
        "my_tabs_loo <- gsub(\"REPLACE_WITH_table_1\", table_1_loo, my_tabs_loo)\n",
        "\n",
        "IRdisplay::display_html(my_tabs_loo)"
      ]
    },
    {
      "cell_type": "markdown",
      "metadata": {},
      "source": [
        "\n",
        "#### **Visualize posteriors**\n",
        "\n",
        "We extract the final model results and visualize the posteriors of our model parameters to get an idea of the significance of the results. This is what we did above when we were evaluating our prior."
      ]
    },
    {
      "cell_type": "code",
      "execution_count": null,
      "metadata": {
        "tags": [
          "hide-cell"
        ],
        "vscode": {
          "languageId": "r"
        }
      },
      "outputs": [],
      "source": [
        "\n",
        "# Extract results\n",
        "posterior_samples_m1v1 <- as_draws_df(m1v1)\n",
        "posterior_samples_m1v2 <- as_draws_df(m1v2)\n"
      ]
    },
    {
      "cell_type": "code",
      "execution_count": null,
      "metadata": {
        "tags": [
          "hide-cell"
        ],
        "vscode": {
          "languageId": "r"
        }
      },
      "outputs": [],
      "source": [
        "\n",
        "# List of datasets and labels\n",
        "predictor_samples <- list(\n",
        "    Pod = posterior_samples_m1v1\n",
        ")\n",
        "\n",
        "predictor_samples_interaction <- list(\n",
        "    Pod = posterior_samples_m1v2\n",
        ")\n",
        "\n",
        "# Baseline category data\n",
        "baseline_data <- tibble(\n",
        "  parameter = \"Red_Algae\",\n",
        "  mean = 0,  # Centered at 0\n",
        "  ci_low = -0.2,  # Example CI range\n",
        "  ci_high = 0.2\n",
        ")\n",
        "\n",
        "# Order categories so \"Red Algae\" appears at the bottom\n",
        "parameter_order <- c(\n",
        "  \"Red_Algae\",\n",
        "  \"b_MicrohabitatOther_Hydroids\",\n",
        "  \"b_MicrohabitatSertulariidae\",\n",
        "  \"b_MicrohabitatHydrallmania\",\n",
        "  \"b_MicrohabitatLafoea\",\n",
        "  \"b_MicrohabitatSertulariidae_Bryozoa\",\n",
        "  \"b_Nudibranch1\"\n",
        ")\n",
        "\n",
        "#Custom labels\n",
        "custom_labels_posteriors <- c(\n",
        "  \"Red_Algae\" = \"Red Algae\",\n",
        "  \"b_MicrohabitatOther_Hydroids\" = \"Other Hydroids\",\n",
        "  \"b_MicrohabitatSertulariidae\" = \"Sertulariidae\",\n",
        "  \"b_MicrohabitatHydrallmania\" = \"Hydrallmania\",\n",
        "  \"b_MicrohabitatLafoea\" = \"Lafoea\",\n",
        "  \"b_MicrohabitatSertulariidae_Bryozoa\" = \"Sertulariidae with Bryozoa\",\n",
        "  \"b_Nudibranch1\" = \"Aeolid Nudibranch Presence\"\n",
        ")\n",
        "\n",
        "\n",
        "# Convert the y-axis parameters to factors for consistent alignment\n",
        "baseline_data$parameter <- factor(baseline_data$parameter, levels = parameter_order)\n",
        "\n",
        "\n",
        "\n",
        "# Generate plots for predictors\n",
        "predictor_plots <- lapply(\n",
        "    names(predictor_samples),\n",
        "    function(label) {\n",
        "        generate_posterior_plot(\n",
        "            predictor_samples[[label]],\n",
        "            regex_pars = c(\n",
        "                \"b_MicrohabitatOther_Hydroids\",\n",
        "                \"b_MicrohabitatSertulariidae\",\n",
        "                \"b_MicrohabitatHydrallmania\",\n",
        "                \"b_MicrohabitatLafoea\",\n",
        "                \"b_MicrohabitatSertulariidae_Bryozoa\",\n",
        "                \"b_Nudibranch1\"\n",
        "            ),\n",
        "            x_range = c(-2, 2),\n",
        "            custom_labels = custom_labels_posteriors,\n",
        "            axis_title_y = label %in% c(\"Pod\")\n",
        "        ) +\n",
        "        geom_point(\n",
        "            data = baseline_data,\n",
        "            aes(x = mean, y = parameter),\n",
        "            inherit.aes = FALSE,\n",
        "            color = \"dodgerblue4\",\n",
        "            size = 2\n",
        "        )\n",
        "    }\n",
        ")\n",
        "names(predictor_plots) <- names(predictor_samples)\n",
        "\n",
        "\n",
        "predictor_plots_interaction <- lapply(\n",
        "    names(predictor_samples_interaction),\n",
        "    function(label) {\n",
        "        generate_posterior_plot(\n",
        "            predictor_samples_interaction[[label]],\n",
        "            regex_pars = c(\n",
        "                \"^b_MicrohabitatOther_Hydroids$\",\n",
        "                \"^b_MicrohabitatSertulariidae$\",\n",
        "                \"^b_MicrohabitatHydrallmania$\",\n",
        "                \"^b_MicrohabitatLafoea$\",\n",
        "                \"^b_MicrohabitatSertulariidae_Bryozoa$\",\n",
        "                \"^b_Nudibranch1$\"\n",
        "            ),\n",
        "            x_range = c(-2, 2),\n",
        "            custom_labels = custom_labels_posteriors,\n",
        "            axis_title_y = label %in% c(\"Pod\")\n",
        "        ) +\n",
        "        geom_point(\n",
        "          data = baseline_data,\n",
        "          aes(x = mean, y = parameter),\n",
        "          inherit.aes = FALSE,\n",
        "          color = \"dodgerblue4\",\n",
        "          size = 2\n",
        "        )\n",
        "    }\n",
        ")\n",
        "names(predictor_plots_interaction) <- names(predictor_samples_interaction)\n",
        "\n",
        "\n",
        "\n",
        "\n",
        "# Add grey bars with labels for each plot\n",
        "\n",
        "predictor_plots_with_bars <- mapply(\n",
        "    function(plot, label) {\n",
        "        patchwork::wrap_elements(create_top_bar(\"Pod Occurrence\")) / plot +\n",
        "            patchwork::plot_layout(heights = c(0.2, 1)) # Adjust heights to reduce spacing\n",
        "    },\n",
        "    predictor_plots,\n",
        "    names(predictor_plots),\n",
        "    SIMPLIFY = FALSE\n",
        ")\n",
        "\n",
        "predictor_plots_interaction_with_bars <- mapply(\n",
        "    function(plot, label) {\n",
        "        patchwork::wrap_elements(create_top_bar(\"Pod Occurrence\\n(with Interaction Effects)\")) / plot +\n",
        "            patchwork::plot_layout(heights = c(0.2, 1)) # Adjust heights to reduce spacing\n",
        "    },\n",
        "    predictor_plots_interaction,\n",
        "    names(predictor_plots_interaction),\n",
        "    SIMPLIFY = FALSE\n",
        ")\n",
        "\n",
        "\n",
        "\n",
        "# Combine plots into a 2x3 grid\n",
        "plot_posteriors_m1v1 <- patchwork::wrap_plots(\n",
        "    predictor_plots_with_bars[c(\"Pod\")],\n",
        "    ncol = 1\n",
        ") +\n",
        "    patchwork::plot_layout(guides = \"collect\")\n",
        "\n",
        "plot_posteriors_m1v2 <- patchwork::wrap_plots(\n",
        "    predictor_plots_interaction_with_bars[c(\"Pod\")],\n",
        "    ncol = 1\n",
        ") +\n",
        "    patchwork::plot_layout(guides = \"collect\")\n",
        "\n",
        "\n",
        "# Add a unified x-axis label\n",
        "plot_posteriors_m1v1 <- plot_posteriors_m1v1 +\n",
        "    patchwork::plot_annotation(\n",
        "        caption = \"Expected value of the odds response (logit scale)\",\n",
        "        theme = theme(plot.caption = element_text(hjust = 0.65, size = 10))\n",
        "    )\n",
        "\n",
        "plot_posteriors_m1v2 <- plot_posteriors_m1v2 +\n",
        "    patchwork::plot_annotation(\n",
        "        caption = \"Expected value of the odds response (logit scale)\",\n",
        "        theme = theme(plot.caption = element_text(hjust = 0.65, size = 10))\n",
        "    )\n",
        "\n",
        "ggsave(\"C:/Users/bmc82/Documents/UF/PhD_Projects/DISSERTATION_MANUSCRIPT/Chapter_3/chapter3_data_analysis/images/plot_posteriors_m1v1.png\", plot = plot_posteriors_m1v1, width = 4.5, height = 4.5, units = \"in\", dpi = 300)\n",
        "\n",
        "ggsave(\"C:/Users/bmc82/Documents/UF/PhD_Projects/DISSERTATION_MANUSCRIPT/Chapter_3/chapter3_data_analysis/images/plot_posteriors_m1v2.png\", plot = plot_posteriors_m1v2, width = 4.5, height = 4.5, units = \"in\", dpi = 300)"
      ]
    },
    {
      "cell_type": "code",
      "execution_count": null,
      "metadata": {
        "tags": [
          "hide-input"
        ],
        "vscode": {
          "languageId": "r"
        }
      },
      "outputs": [],
      "source": [
        "# Convert images to base64\n",
        "plot_posteriors_m1v1 <- knitr::image_uri(\"C:/Users/bmc82/Documents/UF/PhD_Projects/DISSERTATION_MANUSCRIPT/Chapter_3/chapter3_data_analysis/images/plot_posteriors_m1v1.png\")\n",
        "\n",
        "plot_posteriors_m1v2 <- knitr::image_uri(\"C:/Users/bmc82/Documents/UF/PhD_Projects/DISSERTATION_MANUSCRIPT/Chapter_3/chapter3_data_analysis/images/plot_posteriors_m1v2.png\")\n",
        "\n",
        "# Create the HTML \n",
        "html_posteriors <- paste0(\"\n",
        "  <style>\n",
        "    .image-container {\n",
        "      display: flex;\n",
        "      justify-content: space-between;\n",
        "      align-items: flex-start;\n",
        "      flex-wrap: wrap;\n",
        "      gap: 20px;\n",
        "      max-width: 100%;\n",
        "    }\n",
        "\n",
        "    .image-container img {\n",
        "      flex: 1 1 48%;\n",
        "      max-width: 48%;\n",
        "      height: auto;\n",
        "      border: 1px solid #ccc;\n",
        "    }\n",
        "\n",
        "    @media screen and (max-width: 800px) {\n",
        "      .image-container img {\n",
        "        max-width: 100%;\n",
        "        flex: 1 1 100%;\n",
        "      }\n",
        "    }\n",
        "  </style>\n",
        "\n",
        "  <div class='image-container'>\n",
        "    <img src='\", plot_posteriors_m1v1, \"' alt='Posterior Plot'>\n",
        "    <img src='\", plot_posteriors_m1v2, \"' alt='Interaction Plot'>\n",
        "  </div>\n",
        "\")\n",
        "\n",
        "# Display the HTML\n",
        "IRdisplay::display_html(html_posteriors)"
      ]
    },
    {
      "cell_type": "markdown",
      "metadata": {},
      "source": [
        "\n",
        "The graph of the posteriors gives us an idea of the significance of each predictor. We need to follow up with an evaluation of the model performance before we can trust these results.\n",
        "\n",
        "---\n",
        "\n",
        "### 7. Evaluate model performance\n",
        "\n",
        "#### **Trace plots**\n",
        "\n",
        "Visualize parameter sampling across iterations to confirm convergence. Each chain should wander around the same mean value without any strong upward or downward trends. \"fuzzy caterpillar\" or \"horizontal band.\" \n"
      ]
    },
    {
      "cell_type": "code",
      "execution_count": null,
      "metadata": {
        "tags": [
          "hide-cell"
        ],
        "vscode": {
          "languageId": "r"
        }
      },
      "outputs": [],
      "source": [
        "# Generate trace plots for all models\n",
        "trace_plots_m1v1 <- generate_trace_plot(\n",
        "  model = m1v1,\n",
        "  regex_pars = c(\"b_MicrohabitatOther_Hydroids\", \"b_MicrohabitatSertulariidae\", \"b_MicrohabitatHydrallmania\", \"b_MicrohabitatLafoea\", \"b_MicrohabitatSertulariidae_Bryozoa\", \"b_Nudibranch1\"),\n",
        "  plot_title = \"Pod Occurrence Model\",\n",
        "  axis_title_y = TRUE,\n",
        "  axis_text_x = TRUE,\n",
        "  axis_title_size = 10,\n",
        "  axis_text_size = 8\n",
        ")\n",
        "\n",
        "trace_plots_m1v2 <- generate_trace_plot(\n",
        "  model = m1v2,\n",
        "  regex_pars = c(\"^b_MicrohabitatOther_Hydroids$\", \"^b_MicrohabitatSertulariidae$\", \"^b_MicrohabitatHydrallmania$\", \"^b_MicrohabitatLafoea$\", \"^b_MicrohabitatSertulariidae_Bryozoa$\", \"^b_Nudibranch1$\"),\n",
        "  plot_title = \"Pod Occurrence Model (with Interaction Effects)\",\n",
        "  axis_title_y = TRUE,\n",
        "  axis_text_x = TRUE,\n",
        "  axis_title_size = 10,\n",
        "  axis_text_size = 8\n",
        ")\n",
        "\n",
        "\n",
        "ggsave(\"C:/Users/bmc82/Documents/UF/PhD_Projects/DISSERTATION_MANUSCRIPT/Chapter_3/chapter3_data_analysis/images/trace_plots_m1v1.png\", plot = trace_plots_m1v1, width = 6, height = 3, units = \"in\", dpi = 300)\n",
        "ggsave(\"C:/Users/bmc82/Documents/UF/PhD_Projects/DISSERTATION_MANUSCRIPT/Chapter_3/chapter3_data_analysis/images/trace_plots_m1v2.png\", plot = trace_plots_m1v2, width = 6, height = 3, units = \"in\", dpi = 300)"
      ]
    },
    {
      "cell_type": "code",
      "execution_count": null,
      "metadata": {
        "tags": [
          "hide-input"
        ],
        "vscode": {
          "languageId": "r"
        }
      },
      "outputs": [],
      "source": [
        "# Convert images to base64 (if not already done)\n",
        "trace_plots_m1v1 <- knitr::image_uri(\"C:/Users/bmc82/Documents/UF/PhD_Projects/DISSERTATION_MANUSCRIPT/Chapter_3/chapter3_data_analysis/images/trace_plots_m1v1.png\")\n",
        "trace_plots_m1v2     <- knitr::image_uri(\"C:/Users/bmc82/Documents/UF/PhD_Projects/DISSERTATION_MANUSCRIPT/Chapter_3/chapter3_data_analysis/images/trace_plots_m1v2.png\")\n",
        "\n",
        "\n",
        "# Create the HTML \n",
        "html_trace_plots <- paste0(\"\n",
        "<style>\n",
        "  .grid-container {\n",
        "    display: grid;\n",
        "    grid-template-columns: repeat(1, 1fr); /* 1 columns per row */\n",
        "    gap: 3px;\n",
        "    padding: 3px;\n",
        "    justify-items: center;\n",
        "  }\n",
        "\n",
        "  .grid-container img {\n",
        "    max-width: 600px;\n",
        "    width: 100%;\n",
        "    height: auto;\n",
        "    border: 1px solid #ccc;\n",
        "  }\n",
        "</style>\n",
        "\n",
        "<div class='grid-container'>\n",
        "  <img src='\", trace_plots_m1v1, \"' alt='Trace Plot'>\n",
        "  <img src='\", trace_plots_m1v2, \"' alt='Trace Plot (with interactions)'>\n",
        "</div>\n",
        "\")\n",
        "\n",
        "\n",
        "# Display the HTML\n",
        "IRdisplay::display_html(html_trace_plots)"
      ]
    },
    {
      "cell_type": "markdown",
      "metadata": {},
      "source": [
        "\n",
        "#### **Posterior predictive checks**\n",
        "\n",
        "Simulate data based on the models and compare to observed data to verify goodness-of-fit. We do this using \"pp_check\". The observed data (black line/dots) should sit comfortably within the distribution of simulated data (colored areas or lines)"
      ]
    },
    {
      "cell_type": "code",
      "execution_count": null,
      "metadata": {
        "tags": [
          "hide-cell"
        ],
        "vscode": {
          "languageId": "r"
        }
      },
      "outputs": [],
      "source": [
        "\n",
        "# Generate posterior predictive check plots for all models\n",
        "pp_check_plots_m1v1 <-  generate_pp_check(\n",
        "  model = m1v1,\n",
        "  nreps = 100,\n",
        "  axis_title_y = TRUE,\n",
        "  y_label = \"Density\",\n",
        "  plot_title = \"Pod Occurrence Model\",\n",
        "  axis_title_size = 10,  # custom title size\n",
        "  axis_text_size = 8    # custom tick label size\n",
        ")\n",
        "\n",
        "pp_check_plots_m1v2 <-  generate_pp_check(\n",
        "  model = m1v2,\n",
        "  nreps = 100,\n",
        "  axis_title_y = TRUE,\n",
        "  y_label = \"Density\",\n",
        "  plot_title = \"Pod Occurrence (with Interactions) Model\",\n",
        "  axis_title_size = 10,  # custom title size\n",
        "  axis_text_size = 8    # custom tick label size\n",
        ")\n",
        "\n",
        "ggsave(\"C:/Users/bmc82/Documents/UF/PhD_Projects/DISSERTATION_MANUSCRIPT/Chapter_3/chapter3_data_analysis/images/pp_check_plots_m1v1.png\", plot = pp_check_plots_m1v1, width = 3, height = 3, units = \"in\", dpi = 300)\n",
        "\n",
        "ggsave(\"C:/Users/bmc82/Documents/UF/PhD_Projects/DISSERTATION_MANUSCRIPT/Chapter_3/chapter3_data_analysis/images/pp_check_plots_m1v2.png\", plot = pp_check_plots_m1v2, width = 3, height = 3, units = \"in\", dpi = 300)"
      ]
    },
    {
      "cell_type": "code",
      "execution_count": null,
      "metadata": {
        "tags": [
          "hide-input"
        ],
        "vscode": {
          "languageId": "r"
        }
      },
      "outputs": [],
      "source": [
        "# Convert images to base64\n",
        "pp_check_plots_m1v1 <- knitr::image_uri(\"C:/Users/bmc82/Documents/UF/PhD_Projects/DISSERTATION_MANUSCRIPT/Chapter_3/chapter3_data_analysis/images/pp_check_plots_m1v1.png\")\n",
        "pp_check_plots_m1v2     <- knitr::image_uri(\"C:/Users/bmc82/Documents/UF/PhD_Projects/DISSERTATION_MANUSCRIPT/Chapter_3/chapter3_data_analysis/images/pp_check_plots_m1v2.png\")\n",
        "\n",
        "\n",
        "# Create the HTML (horizontal display)\n",
        "html_pp_check_plots <- paste0(\"\n",
        "<style>\n",
        "  .grid-container {\n",
        "    display: grid;\n",
        "    grid-template-columns: repeat(2, 1fr); /* 2 columns per row */\n",
        "    gap: 15px;\n",
        "    padding: 10px;\n",
        "    justify-items: center;\n",
        "  }\n",
        "\n",
        "  .grid-container img {\n",
        "    max-width: 300px;\n",
        "    width: 100%;\n",
        "    height: auto;\n",
        "    border: 1px solid #ccc;\n",
        "  }\n",
        "</style>\n",
        "\n",
        "<div class='grid-container'>\n",
        "  <img src='\", pp_check_plots_m1v1, \"' alt='Plot'>\n",
        "  <img src='\", pp_check_plots_m1v2, \"' alt='Plot with interactions'>\n",
        "</div>\n",
        "\")\n",
        "\n",
        "IRdisplay::display_html(html_pp_check_plots)\n"
      ]
    },
    {
      "cell_type": "markdown",
      "metadata": {},
      "source": [
        "\n",
        "#### **Check convergence**\n",
        "\n",
        "Check that all $\\hat{R}$ values are close to 1, indicating good convergence."
      ]
    },
    {
      "cell_type": "code",
      "execution_count": null,
      "metadata": {
        "tags": [
          "hide-cell"
        ],
        "vscode": {
          "languageId": "r"
        }
      },
      "outputs": [],
      "source": [
        "# Create a helper function\n",
        "extract_rhat <- function(model, model_name) {\n",
        "  rhat(model) %>%\n",
        "    as.data.frame() %>%\n",
        "    rownames_to_column(var = \"Parameter\") %>%\n",
        "    dplyr::filter(startsWith(Parameter, \"b_\")) %>%   # <-- keep only b_ terms\n",
        "    dplyr::rename(Rhat = 2) %>%\n",
        "    dplyr::mutate(Model = model_name) %>%\n",
        "    dplyr::mutate(across(where(is.numeric), ~ signif(.x, digits = 3)))\n",
        "}\n",
        "\n",
        "# Extract for each model group\n",
        "rhat1 <- extract_rhat(m1v1,                \"Pod\")\n",
        "rhat2 <- extract_rhat(m1v2,    \"Pod\")"
      ]
    },
    {
      "cell_type": "code",
      "execution_count": null,
      "metadata": {
        "tags": [
          "hide-cell"
        ],
        "vscode": {
          "languageId": "r"
        }
      },
      "outputs": [],
      "source": [
        "# Save tables\n",
        "write.table(rhat1, \"C:/Users/bmc82/Documents/UF/PhD_Projects/DISSERTATION_MANUSCRIPT/Chapter_3/chapter3_data_analysis/data/tables/table_rhat_m1v1.csv\", sep = \",\", row.names = FALSE, col.names = TRUE)\n",
        "write.table(rhat2, \"C:/Users/bmc82/Documents/UF/PhD_Projects/DISSERTATION_MANUSCRIPT/Chapter_3/chapter3_data_analysis/data/tables/table_rhat_m1v2.csv\", sep = \",\", row.names = FALSE, col.names = TRUE)\n"
      ]
    },
    {
      "cell_type": "code",
      "execution_count": null,
      "metadata": {
        "tags": [
          "hide-input"
        ],
        "vscode": {
          "languageId": "r"
        }
      },
      "outputs": [],
      "source": [
        "# Convert each data frame to a plain HTML table string\n",
        "table_1_rhat <- minimal_html_table(rhat1, caption = \"Rhat values - Probability of Pod Occurrence\")\n",
        "table_2_rhat <- minimal_html_table(rhat2, caption = \"Rhat values - Probability of Pod Occurrence (with interaction effects)\")\n",
        "\n",
        "\n",
        "my_tabs_rhat <- '\n",
        "<style>\n",
        "/* Basic container styling */\n",
        ".tabs-container {\n",
        "  width: 100%;\n",
        "  margin: 1em 0;\n",
        "}\n",
        "\n",
        "/* Hide the radio inputs (we only show their labels as tabs) */\n",
        ".tabs-container input[type=\"radio\"] {\n",
        "  display: none;\n",
        "}\n",
        "\n",
        "/* The “tab-label” styling: looks like a tab */\n",
        ".tab-label {\n",
        "  display: inline-block;\n",
        "  padding: 10px;\n",
        "  margin-right: 2px;\n",
        "  background: #eee;\n",
        "  border: 1px solid #ccc;\n",
        "  cursor: pointer;\n",
        "  border-bottom: none;\n",
        "}\n",
        "\n",
        "/* The active tab label */\n",
        ".tab-label-active {\n",
        "  background: #fff;\n",
        "}\n",
        "\n",
        "/* The panel that holds table content */\n",
        ".tab-content {\n",
        "  border: 1px solid #ccc;\n",
        "  padding: 10px;\n",
        "  display: none;\n",
        "}\n",
        "\n",
        "/* For each radio input, show its corresponding content when checked */\n",
        "#tab1_rhat:checked ~ #content1_rhat,\n",
        "#tab2_rhat:checked ~ #content2_rhat {\n",
        "  display: block;\n",
        "}\n",
        "\n",
        "/* Also style the label of the checked radio as “active” using the :checked + label technique */\n",
        "#tab1_rhat:checked + label[for=\"tab1_rhat\"],\n",
        "#tab2_rhat:checked + label[for=\"tab2_rhat\"] {\n",
        "  background: #fff;\n",
        "  border-bottom: none;\n",
        "}\n",
        "</style>\n",
        "\n",
        "<div class=\"tabs-container\">\n",
        "\n",
        "  <!-- 1) Tab radio + label -->\n",
        "  <input type=\"radio\" name=\"tabs_rhat\" id=\"tab1_rhat\" checked>\n",
        "  <label class=\"tab-label\" for=\"tab1_rhat\">Table 1</label>\n",
        "\n",
        "  <!-- 2) Tab radio + label -->\n",
        "  <input type=\"radio\" name=\"tabs_rhat\" id=\"tab2_rhat\">\n",
        "  <label class=\"tab-label\" for=\"tab2_rhat\">Table 2</label>\n",
        "\n",
        "\n",
        "  <!-- Content for each tab -->\n",
        "  <div class=\"tab-content\" id=\"content1_rhat\">REPLACE_WITH_table_1</div>\n",
        "  <div class=\"tab-content\" id=\"content2_rhat\">REPLACE_WITH_table_2</div>\n",
        "</div>\n",
        "'\n",
        "\n",
        "# Now do the replacements for each table\n",
        "my_tabs_rhat <- gsub(\"REPLACE_WITH_table_1\", table_1_rhat, my_tabs_rhat)\n",
        "my_tabs_rhat <- gsub(\"REPLACE_WITH_table_2\", table_2_rhat, my_tabs_rhat)\n",
        "\n",
        "\n",
        "IRdisplay::display_html(my_tabs_rhat)\n"
      ]
    },
    {
      "cell_type": "markdown",
      "metadata": {},
      "source": [
        "#### **Check uncertainty**\n",
        "\n",
        "Extract parameter estimates and their confidence intervals to assess the significance of the predictors on color pattern metrics. We check 85% and 95% confidence intervals. Summaries are displayed in tables for all models. "
      ]
    },
    {
      "cell_type": "code",
      "execution_count": null,
      "metadata": {
        "tags": [
          "hide-cell"
        ],
        "vscode": {
          "languageId": "r"
        }
      },
      "outputs": [],
      "source": [
        "# Extract summaries for each variable\n",
        "extract_summary <- function(model, prob_85, prob_95) {\n",
        "    summary_85 <- summary(model, prob = prob_85)\n",
        "    summary_95 <- summary(model, prob = prob_95)\n",
        "\n",
        "    as.data.frame(summary_85$fixed) %>%\n",
        "        dplyr::select(\"Estimate\", \"Est.Error\", \"l-85% CI\", \"u-85% CI\") %>%\n",
        "        mutate(\n",
        "            \"l-95% CI\" = summary_95$fixed$`l-95% CI`,\n",
        "            \"u-95% CI\" = summary_95$fixed$`u-95% CI`\n",
        "        ) %>%\n",
        "        mutate(across(where(is.numeric), ~ signif(.x, digits = 3))) %>%\n",
        "        rownames_to_column(var = \"Parameter\") # Add rownames as Parameter column\n",
        "}\n",
        "\n",
        "uncertainty1 <- extract_summary(m1v1, prob_85 = 0.85, prob_95 = 0.95)\n",
        "uncertainty2 <- extract_summary(m1v2, prob_85 = 0.85, prob_95 = 0.95)\n",
        "\n"
      ]
    },
    {
      "cell_type": "code",
      "execution_count": null,
      "metadata": {
        "tags": [
          "hide-cell"
        ],
        "vscode": {
          "languageId": "r"
        }
      },
      "outputs": [],
      "source": [
        "# Save tables\n",
        "write.table(uncertainty1, \"C:/Users/bmc82/Documents/UF/PhD_Projects/DISSERTATION_MANUSCRIPT/Chapter_3/chapter3_data_analysis/data/tables/table_uncertainty_m1v1.csv\", sep = \",\", row.names = TRUE, col.names = TRUE)\n",
        "\n",
        "write.table(uncertainty2, \"C:/Users/bmc82/Documents/UF/PhD_Projects/DISSERTATION_MANUSCRIPT/Chapter_3/chapter3_data_analysis/data/tables/table_uncertainty_m1v2.csv\", sep = \",\", row.names = TRUE, col.names = TRUE)"
      ]
    },
    {
      "cell_type": "code",
      "execution_count": null,
      "metadata": {
        "tags": [
          "hide-input"
        ],
        "vscode": {
          "languageId": "r"
        }
      },
      "outputs": [],
      "source": [
        "\n",
        "# Convert each data frame to a plain HTML table string\n",
        "table_1_uncertainty <- minimal_html_table(uncertainty1, caption = \"Uncertainty values - Probability of Pod Occurrence\")\n",
        "table_2_uncertainty <- minimal_html_table(uncertainty2, caption = \"Uncertainty values - Probability of Pod Occurrence (with interaction effects)\")\n",
        "\n",
        "\n",
        "my_tabs_uncertainty <- '\n",
        "<style>\n",
        "/* Basic container styling */\n",
        ".tabs-container {\n",
        "  width: 100%;\n",
        "  margin: 1em 0;\n",
        "}\n",
        "\n",
        "/* Hide the radio inputs (we only show their labels as tabs) */\n",
        ".tabs-container input[type=\"radio\"] {\n",
        "  display: none;\n",
        "}\n",
        "\n",
        "/* The “tab-label” styling: looks like a tab */\n",
        ".tab-label {\n",
        "  display: inline-block;\n",
        "  padding: 10px;\n",
        "  margin-right: 2px;\n",
        "  background: #eee;\n",
        "  border: 1px solid #ccc;\n",
        "  cursor: pointer;\n",
        "  border-bottom: none;\n",
        "}\n",
        "\n",
        "/* The active tab label */\n",
        ".tab-label-active {\n",
        "  background: #fff;\n",
        "}\n",
        "\n",
        "/* The panel that holds table content */\n",
        ".tab-content {\n",
        "  border: 1px solid #ccc;\n",
        "  padding: 10px;\n",
        "  display: none;\n",
        "}\n",
        "\n",
        "/* For each radio input, show its corresponding content when checked */\n",
        "#tab1_uncertainty:checked ~ #content1_uncertainty,\n",
        "#tab2_uncertainty:checked ~ #content2_uncertainty {\n",
        "  display: block;\n",
        "}\n",
        "\n",
        "/* Also style the label of the checked radio as “active” using the :checked + label technique */\n",
        "#tab1_uncertainty:checked + label[for=\"tab1_uncertainty\"],\n",
        "#tab2_uncertainty:checked + label[for=\"tab2_uncertainty\"] {\n",
        "  background: #fff;\n",
        "  border-bottom: none;\n",
        "}\n",
        "</style>\n",
        "\n",
        "<div class=\"tabs-container\">\n",
        "\n",
        "  <!-- 1) Tab radio + label -->\n",
        "  <input type=\"radio\" name=\"tabs_uncertainty\" id=\"tab1_uncertainty\" checked>\n",
        "  <label class=\"tab-label\" for=\"tab1_uncertainty\">Table 1</label>\n",
        "\n",
        "  <!-- 2) Tab radio + label -->\n",
        "  <input type=\"radio\" name=\"tabs_uncertainty\" id=\"tab2_uncertainty\">\n",
        "  <label class=\"tab-label\" for=\"tab2_uncertainty\">Table 2</label>\n",
        "\n",
        "  <!-- Content for each tab -->\n",
        "  <div class=\"tab-content\" id=\"content1_uncertainty\">REPLACE_WITH_table_1</div>\n",
        "  <div class=\"tab-content\" id=\"content2_uncertainty\">REPLACE_WITH_table_2</div>\n",
        "</div>\n",
        "'\n",
        "\n",
        "# Now do the replacements for each table\n",
        "my_tabs_uncertainty <- gsub(\"REPLACE_WITH_table_1\", table_1_uncertainty, my_tabs_uncertainty)\n",
        "my_tabs_uncertainty <- gsub(\"REPLACE_WITH_table_2\", table_2_uncertainty, my_tabs_uncertainty)\n",
        "\n",
        "IRdisplay::display_html(my_tabs_uncertainty)"
      ]
    },
    {
      "cell_type": "markdown",
      "metadata": {},
      "source": [
        "---\n",
        "\n",
        "#### **Check posterior probabilities**\n",
        "\n",
        "Now we can evaluate our hypotheses using the posterior distributions of the model parameters. Remember, we are concerned with two things: \n",
        "1. Is there a difference in the probability of finding a pod between microhabitats? (Microhabitat effect)\n",
        "2. Is there a difference in the probability of finding a pod between quadrats with and without aeolid nudibranchs? (Nudibranch effect)\n",
        "\n",
        "We will calculate the posterior probability of these effects."
      ]
    },
    {
      "cell_type": "code",
      "execution_count": null,
      "metadata": {
        "tags": [
          "hide-cell"
        ],
        "vscode": {
          "languageId": "r"
        }
      },
      "outputs": [],
      "source": [
        "##### **Posterior Probability of Microhabitat Effect**\n",
        "\n",
        "draws <- as_draws_df(m1v1)\n",
        "\n",
        "# Posterior probability that Other Hydroids, Sertulariidae, Hydrallmania, Lafoea, or Sertulariidae with Bryozoa are **more** likely to have Pods than Red Algae (reference microhabitat)\n",
        "pp_Other_Hydroids_positive <- mean(draws$b_MicrohabitatOther_Hydroids > 0)\n",
        "pp_Sertulariidae_positive <- mean(draws$b_MicrohabitatSertulariidae > 0)\n",
        "pp_Hydrallmania_positive <- mean(draws$b_MicrohabitatHydrallmania > 0)\n",
        "pp_Lafoea_positive <- mean(draws$b_MicrohabitatLafoea > 0)\n",
        "pp_Sertulariidae_Bryozoa_positive <- mean(draws$b_MicrohabitatSertulariidae_Bryozoa > 0)\n",
        "\n",
        "# Posterior probability that Other Hydroids, Sertulariidae, Hydrallmania, Lafoea, or Sertulariidae with Bryozoa are **less** likely to have Pods than Red Algae (reference microhabitat)\n",
        "pp_Other_Hydroids_negative <- mean(draws$b_MicrohabitatOther_Hydroids < 0)\n",
        "pp_Sertulariidae_negative <- mean(draws$b_MicrohabitatSertulariidae < 0)\n",
        "pp_Hydrallmania_negative <- mean(draws$b_MicrohabitatHydrallmania < 0)\n",
        "pp_Lafoea_negative <- mean(draws$b_MicrohabitatLafoea < 0)\n",
        "pp_Sertulariidae_Bryozoa_negative <- mean(draws$b_MicrohabitatSertulariidae_Bryozoa < 0)\n",
        "\n",
        "\n",
        "# Create a summary table\n",
        "pp_summary_m1v1_microhabitat <- data.frame(\n",
        "  Hypothesis = c(\n",
        "    \"P(Other Hydroids effect > 0)\",\n",
        "    \"P(Sertulariidae effect > 0)\",\n",
        "    \"P(Hydrallmania effect > 0)\",\n",
        "    \"P(Lafoea effect > 0)\",\n",
        "    \"P(Sertulariidae with Bryozoa effect > 0)\",\n",
        "    \"P(Other Hydroids effect < 0)\",\n",
        "    \"P(Sertulariidae effect < 0)\",\n",
        "    \"P(Hydrallmania effect < 0)\",\n",
        "    \"P(Lafoea effect < 0)\",\n",
        "    \"P(Sertulariidae with Bryozoa effect < 0)\"\n",
        "  ),\n",
        "  PosteriorProbability = c(\n",
        "    pp_Other_Hydroids_positive,\n",
        "    pp_Sertulariidae_positive,\n",
        "    pp_Hydrallmania_positive,\n",
        "    pp_Lafoea_positive,\n",
        "    pp_Sertulariidae_Bryozoa_positive,\n",
        "    pp_Other_Hydroids_negative,\n",
        "    pp_Sertulariidae_negative,\n",
        "    pp_Hydrallmania_negative,\n",
        "    pp_Lafoea_negative,\n",
        "    pp_Sertulariidae_Bryozoa_negative\n",
        "  )\n",
        ")\n",
        "\n",
        "# Save table\n",
        "write.table(pp_summary_m1v1_microhabitat, \"C:/Users/bmc82/Documents/UF/PhD_Projects/DISSERTATION_MANUSCRIPT/Chapter_3/chapter3_data_analysis/data/tables/table_postprob_m1v1_microhabitat.csv\", sep = \",\", row.names = TRUE, col.names = TRUE)"
      ]
    },
    {
      "cell_type": "code",
      "execution_count": null,
      "metadata": {
        "tags": [
          "hide-input"
        ],
        "vscode": {
          "languageId": "r"
        }
      },
      "outputs": [],
      "source": [
        "# Generate HTML table\n",
        "html_table <- minimal_html_table(pp_summary_m1v1_microhabitat, caption = \"Posterior probabilities for Microhabitat Effect\")\n",
        "\n",
        "# Display it as HTML\n",
        "IRdisplay::display_html(html_table)"
      ]
    },
    {
      "cell_type": "code",
      "execution_count": null,
      "metadata": {
        "tags": [
          "hide-cell"
        ],
        "vscode": {
          "languageId": "r"
        }
      },
      "outputs": [],
      "source": [
        "##### **Posterior Probability of Nudibranch Effect**\n",
        "\n",
        "draws <- as_draws_df(m1v1)\n",
        "\n",
        "# Posterior probability that quadrats with Aeolid Nudibranchs are **more** likely to have Pods than quadrats without Aeolid Nudibranchs\n",
        "pp_nudie_positive <- mean(draws$b_Nudibranch1 > 0)\n",
        "\n",
        "# Posterior probability that quadrats with Aeolid Nudibranchs are **less** likely to have Pods than quadrats without Aeolid Nudibranchs\n",
        "pp_nudie_negative <- mean(draws$b_Nudibranch1 < 0)\n",
        "\n",
        "\n",
        "# Create a summary table\n",
        "pp_summary_m1v1_nudibranch <- data.frame(\n",
        "  Hypothesis = c(\n",
        "    \"P(Nudibranch effect > 0)\",\n",
        "    \"P(Nudibranch effect < 0)\"\n",
        "  ),\n",
        "  PosteriorProbability = c(\n",
        "    pp_nudie_positive,\n",
        "    pp_nudie_negative\n",
        "  )\n",
        ")\n",
        "\n",
        "# Save table\n",
        "write.table(pp_summary_m1v1_nudibranch, \"C:/Users/bmc82/Documents/UF/PhD_Projects/DISSERTATION_MANUSCRIPT/Chapter_3/chapter3_data_analysis/data/tables/table_postprob_m1v1_nudibranch.csv\", sep = \",\", row.names = TRUE, col.names = TRUE)\n"
      ]
    },
    {
      "cell_type": "code",
      "execution_count": null,
      "metadata": {
        "tags": [
          "hide-input"
        ],
        "vscode": {
          "languageId": "r"
        }
      },
      "outputs": [],
      "source": [
        "# Generate HTML table\n",
        "html_table <- minimal_html_table(pp_summary_m1v1_nudibranch, caption = \"Posterior probabilities for Nudibranch Effect\")\n",
        "\n",
        "# Display it as HTML\n",
        "IRdisplay::display_html(html_table)"
      ]
    },
    {
      "cell_type": "code",
      "execution_count": null,
      "metadata": {
        "tags": [
          "hide-cell"
        ],
        "vscode": {
          "languageId": "r"
        }
      },
      "outputs": [],
      "source": [
        "##### **Posterior Probability of Microhabitat Effect (with interactions)**\n",
        "\n",
        "draws <- as_draws_df(m1v2)\n",
        "\n",
        "# Posterior probability that Other Hydroids have a **higher** value than Red Algae (reference microhabitat)\n",
        "pp_Other_Hydroids_positive <- mean(draws[[\"b_MicrohabitatOther_Hydroids\"]] > 0)\n",
        "pp_Sertulariidae_positive <- mean(draws[[\"b_MicrohabitatSertulariidae\"]] > 0)\n",
        "pp_Hydrallmania_positive <- mean(draws[[\"b_MicrohabitatHydrallmania\"]] > 0)\n",
        "pp_Lafoea_positive <- mean(draws[[\"b_MicrohabitatLafoea\"]] > 0)\n",
        "pp_Sertulariidae_Bryozoa_positive <- mean(draws[[\"b_MicrohabitatSertulariidae_Bryozoa\"]] > 0)\n",
        "\n",
        "# Posterior probability that females have a **lower** value than males\n",
        "pp_Other_Hydroids_negative <- mean(draws[[\"b_MicrohabitatOther_Hydroids\"]] < 0)\n",
        "pp_Sertulariidae_negative <- mean(draws[[\"b_MicrohabitatSertulariidae\"]] < 0)\n",
        "pp_Hydrallmania_negative <- mean(draws[[\"b_MicrohabitatHydrallmania\"]] < 0)\n",
        "pp_Lafoea_negative <- mean(draws[[\"b_MicrohabitatLafoea\"]] < 0)\n",
        "pp_Sertulariidae_Bryozoa_negative <- mean(draws[[\"b_MicrohabitatSertulariidae_Bryozoa\"]] < 0)\n",
        "\n",
        "\n",
        "# Create a summary table\n",
        "pp_summary_m1v2_microhabitat <- data.frame(\n",
        "  Hypothesis = c(\n",
        "    \"P(Other Hydroids effect > 0)\",\n",
        "    \"P(Sertulariidae effect > 0)\",\n",
        "    \"P(Hydrallmania effect > 0)\",\n",
        "    \"P(Lafoea effect > 0)\",\n",
        "    \"P(Sertulariidae with Bryozoa effect > 0)\",\n",
        "    \"P(Other Hydroids effect < 0)\",\n",
        "    \"P(Sertulariidae effect < 0)\",\n",
        "    \"P(Hydrallmania effect < 0)\",\n",
        "    \"P(Lafoea effect < 0)\",\n",
        "    \"P(Sertulariidae with Bryozoa effect < 0)\"\n",
        "  ),\n",
        "  PosteriorProbability = c(\n",
        "    pp_Other_Hydroids_positive,\n",
        "    pp_Sertulariidae_positive,\n",
        "    pp_Hydrallmania_positive,\n",
        "    pp_Lafoea_positive,\n",
        "    pp_Sertulariidae_Bryozoa_positive,\n",
        "    pp_Other_Hydroids_negative,\n",
        "    pp_Sertulariidae_negative,\n",
        "    pp_Hydrallmania_negative,\n",
        "    pp_Lafoea_negative,\n",
        "    pp_Sertulariidae_Bryozoa_negative\n",
        "  )\n",
        ")\n",
        "\n",
        "# Save table\n",
        "write.table(pp_summary_m1v2_microhabitat, \"C:/Users/bmc82/Documents/UF/PhD_Projects/DISSERTATION_MANUSCRIPT/Chapter_3/chapter3_data_analysis/data/tables/table_postprob_m1v2_microhabitat.csv\", sep = \",\", row.names = TRUE, col.names = TRUE)"
      ]
    },
    {
      "cell_type": "code",
      "execution_count": null,
      "metadata": {
        "tags": [
          "hide-input"
        ],
        "vscode": {
          "languageId": "r"
        }
      },
      "outputs": [],
      "source": [
        "# Generate HTML table\n",
        "html_table <- minimal_html_table(pp_summary_m1v2_microhabitat, caption = \"Posterior probabilities for Microhabitat Effect (with Nudibranch Interaction Effects)\")\n",
        "\n",
        "# Display it as HTML\n",
        "IRdisplay::display_html(html_table)"
      ]
    },
    {
      "cell_type": "code",
      "execution_count": null,
      "metadata": {
        "tags": [
          "hide-cell"
        ],
        "vscode": {
          "languageId": "r"
        }
      },
      "outputs": [],
      "source": [
        "##### **Posterior Probability of Nudibranch Effect (with interactions)**\n",
        "\n",
        "draws <- as_draws_df(m1v2)\n",
        "\n",
        "# Posterior probability that quadrats with Aeolid Nudibranchs are **more** likely to have Pods than quadrats without Aeolid Nudibranchs\n",
        "pp_nudie_positive <- mean(draws$b_Nudibranch1 > 0)\n",
        "\n",
        "# Posterior probability that quadrats with Aeolid Nudibranchs are **less** likely to have Pods than quadrats without Aeolid Nudibranchs\n",
        "pp_nudie_negative <- mean(draws$b_Nudibranch1 < 0)\n",
        "\n",
        "\n",
        "# Create a summary table\n",
        "pp_summary_m1v2_nudibranch <- data.frame(\n",
        "  Hypothesis = c(\n",
        "    \"P(Nudibranch effect > 0)\",\n",
        "    \"P(Nudibranch effect < 0)\"\n",
        "  ),\n",
        "  PosteriorProbability = c(\n",
        "    pp_nudie_positive,\n",
        "    pp_nudie_negative\n",
        "  )\n",
        ")\n",
        "\n",
        "# Save table\n",
        "write.table(pp_summary_m1v2_nudibranch, \"C:/Users/bmc82/Documents/UF/PhD_Projects/DISSERTATION_MANUSCRIPT/Chapter_3/chapter3_data_analysis/data/tables/table_postprob_m1v2_nudibranch.csv\", sep = \",\", row.names = TRUE, col.names = TRUE)"
      ]
    },
    {
      "cell_type": "code",
      "execution_count": null,
      "metadata": {
        "tags": [
          "hide-input"
        ],
        "vscode": {
          "languageId": "r"
        }
      },
      "outputs": [],
      "source": [
        "# Generate HTML table\n",
        "html_table <- minimal_html_table(pp_summary_m1v2_nudibranch, caption = \"Posterior probabilities for Nudibranch Effect (with Microhabitat Interaction Effects)\")\n",
        "\n",
        "# Display it as HTML\n",
        "IRdisplay::display_html(html_table)"
      ]
    },
    {
      "cell_type": "code",
      "execution_count": null,
      "metadata": {
        "tags": [
          "hide-cell"
        ],
        "vscode": {
          "languageId": "r"
        }
      },
      "outputs": [],
      "source": [
        "##### **Posterior Probability of Microhabitat*Nudibranch Effect\n",
        "\n",
        "draws <- as_draws_df(m1v2)\n",
        "\n",
        "# Posterior probability that Pod occurrence on microhabitat with nudibranchs is > Red Algae (reference microhabitat)\n",
        "pp_Other_Hydroids_nudie_positive <- mean(draws[[\"b_MicrohabitatOther_Hydroids:Nudibranch1\"]] > 0)\n",
        "pp_Sertulariidae_nudie_positive <- mean(draws[[\"b_MicrohabitatSertulariidae:Nudibranch1\"]] > 0)\n",
        "pp_Hydrallmania_nudie_positive <- mean(draws[[\"b_MicrohabitatHydrallmania:Nudibranch1\"]] > 0)\n",
        "pp_Lafoea_nudie_positive <- mean(draws[[\"b_MicrohabitatLafoea:Nudibranch1\"]] > 0)\n",
        "pp_Sertulariidae_Bryozoa_nudie_positive <- mean(draws[[\"b_MicrohabitatSertulariidae_Bryozoa:Nudibranch1\"]] > 0)\n",
        "\n",
        "# Posterior probability that Pod occurrence on microhabitat with nudibranchs is < Red Algae (reference microhabitat)\n",
        "pp_Other_Hydroids_nudie_negative <- mean(draws[[\"b_MicrohabitatOther_Hydroids:Nudibranch1\"]] < 0)\n",
        "pp_Sertulariidae_nudie_negative <- mean(draws[[\"b_MicrohabitatSertulariidae:Nudibranch1\"]] < 0)\n",
        "pp_Hydrallmania_nudie_negative <- mean(draws[[\"b_MicrohabitatHydrallmania:Nudibranch1\"]] < 0)\n",
        "pp_Lafoea_nudie_negative <- mean(draws[[\"b_MicrohabitatLafoea:Nudibranch1\"]] < 0)\n",
        "pp_Sertulariidae_Bryozoa_nudie_negative <- mean(draws[[\"b_MicrohabitatSertulariidae_Bryozoa:Nudibranch1\"]] < 0)\n",
        "\n",
        "\n",
        "# Create a summary table\n",
        "pp_summary_m1v2_microhabitat_nudibranch <- data.frame(\n",
        "  Hypothesis = c(\n",
        "    \"P(Other Hydroids:Nudibranch effect > 0)\",\n",
        "    \"P(Sertulariidae:Nudibranch effect > 0)\",\n",
        "    \"P(Hydrallmania:Nudibranch effect > 0)\",\n",
        "    \"P(Lafoea:Nudibranch effect > 0)\",\n",
        "    \"P(Sertulariidae_Bryozoa:Nudibranch effect > 0)\",\n",
        "    \"P(Other Hydroids:Nudibranch effect < 0)\",\n",
        "    \"P(Sertulariidae:Nudibranch effect < 0)\",\n",
        "    \"P(Hydrallmania:Nudibranch effect < 0)\",\n",
        "    \"P(Lafoea:Nudibranch effect < 0)\",\n",
        "    \"P(Sertulariidae_Bryozoa:Nudibranch effect < 0)\"\n",
        "  ),\n",
        "  PosteriorProbability = c(\n",
        "    pp_Other_Hydroids_nudie_positive,\n",
        "    pp_Sertulariidae_nudie_positive,\n",
        "    pp_Hydrallmania_nudie_positive,\n",
        "    pp_Lafoea_nudie_positive,\n",
        "    pp_Sertulariidae_Bryozoa_nudie_positive,\n",
        "    pp_Other_Hydroids_nudie_negative,\n",
        "    pp_Sertulariidae_nudie_negative,\n",
        "    pp_Hydrallmania_nudie_negative,\n",
        "    pp_Lafoea_nudie_negative,\n",
        "    pp_Sertulariidae_Bryozoa_nudie_negative\n",
        "  )\n",
        ")\n",
        "\n",
        "# Save table\n",
        "write.table(pp_summary_m1v2_microhabitat_nudibranch, \"C:/Users/bmc82/Documents/UF/PhD_Projects/DISSERTATION_MANUSCRIPT/Chapter_3/chapter3_data_analysis/data/tables/table_postprob_m1v2_microhabitat_nudibranch.csv\", sep = \",\", row.names = TRUE, col.names = TRUE)"
      ]
    },
    {
      "cell_type": "code",
      "execution_count": null,
      "metadata": {
        "tags": [
          "hide-input"
        ],
        "vscode": {
          "languageId": "r"
        }
      },
      "outputs": [],
      "source": [
        "# Generate HTML table\n",
        "html_table <- minimal_html_table(pp_summary_m1v2_microhabitat_nudibranch, caption = \"Posterior probabilities for Microhabitat*Nudibranch Interaction Effect\")\n",
        "\n",
        "# Display it as HTML\n",
        "IRdisplay::display_html(html_table)"
      ]
    },
    {
      "cell_type": "markdown",
      "metadata": {},
      "source": [
        "\n",
        "---\n",
        "\n",
        "### 8. Summarize results\n",
        "\n",
        "Sertulariidae with Bryozoans and Aeolid Nudibranch occurrence have a significantly positive effect on the log-odds of P. cristatus occurrence, with 85% and 95% confidence intervals supporting this relationship. In models that do not account for nudibranch-microhabitat associations, the Lafoea habitat appears potentially significant at the 85% confidence level. However, when nudibranch-microhabitat associations are included in the analysis, the effect of Lafoea microhabitat is no longer significant, while the effects of Sertulariidae with Bryozoans and Nudibranch occurrence remain significant, suggesting that the apparent significance of Lafoea in the initial model was driven by its association with shared microhabitats involving nudibranchs.\n",
        "\n",
        "#### **Make final figures**\n",
        "\n",
        "Generate tidy figures for the Results section of our report/paper. We will limit the results to showing only Microhabitat categories and add the intercept category at 0 for comparison.\n"
      ]
    },
    {
      "cell_type": "code",
      "execution_count": null,
      "metadata": {
        "tags": [
          "hide-cell"
        ],
        "vscode": {
          "languageId": "r"
        }
      },
      "outputs": [],
      "source": [
        "##### FINAL PLOT FOR WNAN PAPER\n",
        "\n",
        "# Define the predictor list\n",
        "predictors_m1v2 <- list(\n",
        "  list(\n",
        "    name = \"Microhabitat\",\n",
        "    model = \"m1\",\n",
        "    baseline = tibble(parameter = \"Red_Algae\", mean = 0),\n",
        "    order = c(\"Red_Algae\", \"b_MicrohabitatOther_Hydroids\", \"b_MicrohabitatSertulariidae\", \"b_MicrohabitatHydrallmania\", \"b_MicrohabitatLafoea\", \"b_MicrohabitatSertulariidae_Bryozoa\"),\n",
        "    labels = c(\n",
        "      \"Red_Algae\" = \"Red algae\",\n",
        "      \"b_MicrohabitatOther_Hydroids\" = \"Other hydroids\",\n",
        "      \"b_MicrohabitatSertulariidae\" = \"Sertulariidae\",\n",
        "      \"b_MicrohabitatHydrallmania\" = \"Hydrallmania\",\n",
        "      \"b_MicrohabitatLafoea\" = \"Lafoea\",\n",
        "      \"b_MicrohabitatSertulariidae_Bryozoa\" = \"Bryozoa\"\n",
        "    ),\n",
        "    regex_pars = c(\n",
        "      \"^b_MicrohabitatOther_Hydroids$\",\n",
        "      \"^b_MicrohabitatSertulariidae$\",\n",
        "      \"^b_MicrohabitatHydrallmania$\",\n",
        "      \"^b_MicrohabitatLafoea$\",\n",
        "      \"^b_MicrohabitatSertulariidae_Bryozoa$\")\n",
        "  ),\n",
        "  list(\n",
        "    name = \"Nudibranch\",\n",
        "    model = \"m1\",\n",
        "    baseline = tibble(parameter = \"Aeolid Absence\", mean = 0),\n",
        "    order = c(\"Aeolid Absence\", \"b_Nudibranch1\"),\n",
        "    labels = c(\n",
        "      \"Aeolid Absence\" = \"Aeolid absent\",\n",
        "      \"b_Nudibranch1\" = \"Aeolid present\"\n",
        "    ),\n",
        "    regex_pars = c(\"^b_Nudibranch1$\")\n",
        "  )\n",
        ")\n",
        "\n",
        "# Posterior samples\n",
        "posterior_samples_m1v2 <- posterior_samples_m1v2  # This is the *single* posterior data.frame\n",
        "\n",
        "\n",
        "# Helper: extract posterior + baseline\n",
        "extract_effects <- function(posterior_df, predictor_cfg, predictor_name) {\n",
        "  matched_cols <- posterior_df %>%\n",
        "    dplyr::select(matches(predictor_cfg$regex)) %>%\n",
        "    colnames()\n",
        "\n",
        "  if (length(matched_cols) == 0) {\n",
        "    stop(paste(\"No columns matched regex:\", predictor_cfg$regex, \"for predictor:\", predictor_cfg$name))\n",
        "  }\n",
        "\n",
        "  draws <- posterior_df %>%\n",
        "    dplyr::select(all_of(matched_cols)) %>%\n",
        "    pivot_longer(cols = everything(), names_to = \"parameter\", values_to = \"value\") %>%\n",
        "    mutate(\n",
        "      label = predictor_cfg$labels[parameter],\n",
        "      predictor = predictor_name,\n",
        "      group = predictor_cfg$name\n",
        "    )\n",
        "\n",
        "  baseline <- predictor_cfg$baseline %>%\n",
        "    mutate(\n",
        "      label = predictor_cfg$labels[parameter],\n",
        "      predictor = predictor_name,\n",
        "      group = predictor_cfg$name,\n",
        "      value = mean\n",
        "    )\n",
        "\n",
        "  bind_rows(draws, baseline)\n",
        "}\n",
        "\n",
        "\n",
        "# Extract all predictor draws\n",
        "plot_data_m1v2 <- map_dfr(\n",
        "  predictors_m1v2,\n",
        "  ~ extract_effects(posterior_samples_m1v2, .x, .x$name)\n",
        ")\n",
        "\n",
        "# Factor label order\n",
        "label_order_m1v2 <- c(\n",
        "  \"Red algae\", \"Other hydroids\", \"Sertulariidae\", \"Hydrallmania\", \"Lafoea\", \"Bryozoa\",\n",
        "  \"Aeolid absent\", \"Aeolid present\"\n",
        ")\n",
        "plot_data_m1v2$label <- factor(plot_data_m1v2$label, levels = label_order_m1v2)\n",
        "\n",
        "# Final plot (single panel!)\n",
        "final_plot_posteriors_m1v2 <- ggplot(plot_data_m1v2, aes(x = value, y = label, fill = group, color = group)) +\n",
        "  stat_halfeye(\n",
        "    .width = c(0.85, 0.95),\n",
        "    slab_alpha = 0.4,\n",
        "    interval_size_range = c(0.75, 0),\n",
        "    normalize = \"groups\",\n",
        "    slab_linewidth = 0.6,\n",
        "    point_size = 1.25\n",
        "  ) +\n",
        "  geom_point(\n",
        "    data = filter(plot_data_m1v2, !is.na(mean)),\n",
        "    aes(x = mean),  # ✅ Match point color to group\n",
        "    inherit.aes = TRUE,\n",
        "    size = 0.5,\n",
        "    shape = 21\n",
        "  ) +\n",
        "  geom_vline(xintercept = 0, size = 0.6, linetype = 3, color = \"red\") +\n",
        "  scale_fill_manual(\n",
        "    values = c(\n",
        "      \"Microhabitat\" = \"forestgreen\",\n",
        "      \"Nudibranch\" = \"red\"\n",
        "    )\n",
        "  ) +\n",
        "  scale_color_manual(  # ✅ Add corresponding point colors\n",
        "    values = c(\n",
        "      \"Microhabitat\" = \"forestgreen\",\n",
        "      \"Nudibranch\" = \"red\"\n",
        "    )\n",
        "  ) +\n",
        "  labs(\n",
        "    x = \"Effect size (logit scale)\",\n",
        "    y = NULL\n",
        "  ) +\n",
        "  theme_bw(base_size = 8) +\n",
        "  theme(\n",
        "    strip.text = element_text(face = \"bold\", size = 10),\n",
        "    axis.text.y = element_text(size = 8),\n",
        "    panel.spacing = unit(0.5, \"lines\"),\n",
        "    panel.grid.major.x = element_blank(),\n",
        "    panel.grid.minor.x = element_blank(),\n",
        "    legend.position = \"none\"\n",
        "  )\n",
        "\n",
        "\n",
        "# Save\n",
        "ggsave(\"C:/Users/bmc82/Documents/UF/PhD_Projects/DISSERTATION_MANUSCRIPT/Chapter_3/chapter3_data_analysis/images/final_plot_posteriors_m1v2.png\",\n",
        "       plot = final_plot_posteriors_m1v2, width = 4.5, height = 4.5, units = \"in\", dpi = 300)"
      ]
    },
    {
      "cell_type": "code",
      "execution_count": null,
      "metadata": {
        "tags": [
          "hide-input"
        ],
        "vscode": {
          "languageId": "r"
        }
      },
      "outputs": [],
      "source": [
        "# Convert images to base64\n",
        "final_plot_posteriors_m1v2 <- knitr::image_uri(\"C:/Users/bmc82/Documents/UF/PhD_Projects/DISSERTATION_MANUSCRIPT/Chapter_3/chapter3_data_analysis/images/final_plot_posteriors_m1v2.png\")\n",
        "\n",
        "\n",
        "# Create the HTML \n",
        "html_posteriors_final <- paste0(\"\n",
        "  <style>\n",
        "    .image-container {\n",
        "      display: flex;\n",
        "      justify-content: space-between;\n",
        "      align-items: flex-start;\n",
        "      flex-wrap: wrap;\n",
        "      gap: 20px;\n",
        "      max-width: 100%;\n",
        "    }\n",
        "\n",
        "    .image-container img {\n",
        "      flex: 1 1 48%;\n",
        "      max-width: 48%;\n",
        "      height: auto;\n",
        "      border: 1px solid #ccc;\n",
        "    }\n",
        "\n",
        "    @media screen and (max-width: 800px) {\n",
        "      .image-container img {\n",
        "        max-width: 100%;\n",
        "        flex: 1 1 100%;\n",
        "      }\n",
        "    }\n",
        "  </style>\n",
        "\n",
        "  <div class='image-container'>\n",
        "    <img src='\", final_plot_posteriors_m1v2, \"' alt='Final Posterior Plot'>\n",
        "  </div>\n",
        "\")\n",
        "\n",
        "# Display the HTML\n",
        "IRdisplay::display_html(html_posteriors_final)"
      ]
    }
  ],
  "metadata": {
    "kernelspec": {
      "display_name": "R",
      "language": "R",
      "name": "ir",
      "path": "C:\\Users\\bmc82\\AppData\\Roaming\\Python\\share\\jupyter\\kernels\\python3"
    },
    "language_info": {
      "codemirror_mode": "r",
      "file_extension": ".r",
      "mimetype": "text/x-r-source",
      "name": "R",
      "pygments_lexer": "r",
      "version": "4.4.2"
    }
  },
  "nbformat": 4,
  "nbformat_minor": 4
}
